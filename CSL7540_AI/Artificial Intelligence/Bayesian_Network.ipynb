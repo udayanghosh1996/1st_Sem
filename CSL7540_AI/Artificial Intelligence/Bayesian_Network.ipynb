{
 "cells": [
  {
   "cell_type": "code",
   "execution_count": 2,
   "id": "5ec58397",
   "metadata": {},
   "outputs": [
    {
     "data": {
      "application/javascript": [
       "IPython.notebook.set_autosave_interval(1000)"
      ]
     },
     "metadata": {},
     "output_type": "display_data"
    },
    {
     "name": "stdout",
     "output_type": "stream",
     "text": [
      "Autosaving every 1 seconds\n"
     ]
    }
   ],
   "source": [
    "%autosave 1"
   ]
  },
  {
   "cell_type": "code",
   "execution_count": 3,
   "id": "551182eb",
   "metadata": {},
   "outputs": [],
   "source": [
    "import numpy as np\n",
    "import random\n",
    "import pandas as pd"
   ]
  },
  {
   "cell_type": "code",
   "execution_count": 4,
   "id": "7d85c024",
   "metadata": {},
   "outputs": [
    {
     "data": {
      "text/html": [
       "<div>\n",
       "<style scoped>\n",
       "    .dataframe tbody tr th:only-of-type {\n",
       "        vertical-align: middle;\n",
       "    }\n",
       "\n",
       "    .dataframe tbody tr th {\n",
       "        vertical-align: top;\n",
       "    }\n",
       "\n",
       "    .dataframe thead th {\n",
       "        text-align: right;\n",
       "    }\n",
       "</style>\n",
       "<table border=\"1\" class=\"dataframe\">\n",
       "  <thead>\n",
       "    <tr style=\"text-align: right;\">\n",
       "      <th></th>\n",
       "      <th>a1</th>\n",
       "      <th>a2</th>\n",
       "      <th>a3</th>\n",
       "    </tr>\n",
       "  </thead>\n",
       "  <tbody>\n",
       "    <tr>\n",
       "      <th>0</th>\n",
       "      <td>0.182059</td>\n",
       "      <td>0.462129</td>\n",
       "      <td>0.355812</td>\n",
       "    </tr>\n",
       "  </tbody>\n",
       "</table>\n",
       "</div>"
      ],
      "text/plain": [
       "         a1        a2        a3\n",
       "0  0.182059  0.462129  0.355812"
      ]
     },
     "execution_count": 4,
     "metadata": {},
     "output_type": "execute_result"
    }
   ],
   "source": [
    "np.random.seed(42)\n",
    "a_data=np.random.rand(3)\n",
    "a_data=a_data/sum(a_data)\n",
    "A_dataframe=pd.DataFrame([a_data], columns=['a1','a2','a3'])\n",
    "A_dataframe"
   ]
  },
  {
   "cell_type": "code",
   "execution_count": 5,
   "id": "0d40e10c",
   "metadata": {},
   "outputs": [
    {
     "data": {
      "text/html": [
       "<div>\n",
       "<style scoped>\n",
       "    .dataframe tbody tr th:only-of-type {\n",
       "        vertical-align: middle;\n",
       "    }\n",
       "\n",
       "    .dataframe tbody tr th {\n",
       "        vertical-align: top;\n",
       "    }\n",
       "\n",
       "    .dataframe thead th {\n",
       "        text-align: right;\n",
       "    }\n",
       "</style>\n",
       "<table border=\"1\" class=\"dataframe\">\n",
       "  <thead>\n",
       "    <tr style=\"text-align: right;\">\n",
       "      <th></th>\n",
       "      <th>b1</th>\n",
       "      <th>b2</th>\n",
       "    </tr>\n",
       "  </thead>\n",
       "  <tbody>\n",
       "    <tr>\n",
       "      <th>0</th>\n",
       "      <td>0.407323</td>\n",
       "      <td>0.592677</td>\n",
       "    </tr>\n",
       "  </tbody>\n",
       "</table>\n",
       "</div>"
      ],
      "text/plain": [
       "         b1        b2\n",
       "0  0.407323  0.592677"
      ]
     },
     "execution_count": 5,
     "metadata": {},
     "output_type": "execute_result"
    }
   ],
   "source": [
    "np.random.seed(87)\n",
    "b_data=np.random.rand(2)\n",
    "b_data=b_data/sum(b_data)\n",
    "B_dataframe=pd.DataFrame([b_data], columns=['b1','b2'])\n",
    "B_dataframe"
   ]
  },
  {
   "cell_type": "code",
   "execution_count": 6,
   "id": "279981de",
   "metadata": {},
   "outputs": [
    {
     "data": {
      "text/html": [
       "<div>\n",
       "<style scoped>\n",
       "    .dataframe tbody tr th:only-of-type {\n",
       "        vertical-align: middle;\n",
       "    }\n",
       "\n",
       "    .dataframe tbody tr th {\n",
       "        vertical-align: top;\n",
       "    }\n",
       "\n",
       "    .dataframe thead th {\n",
       "        text-align: right;\n",
       "    }\n",
       "</style>\n",
       "<table border=\"1\" class=\"dataframe\">\n",
       "  <thead>\n",
       "    <tr style=\"text-align: right;\">\n",
       "      <th></th>\n",
       "      <th>c1</th>\n",
       "      <th>c2</th>\n",
       "    </tr>\n",
       "  </thead>\n",
       "  <tbody>\n",
       "    <tr>\n",
       "      <th>0</th>\n",
       "      <td>0.697377</td>\n",
       "      <td>0.302623</td>\n",
       "    </tr>\n",
       "  </tbody>\n",
       "</table>\n",
       "</div>"
      ],
      "text/plain": [
       "         c1        c2\n",
       "0  0.697377  0.302623"
      ]
     },
     "execution_count": 6,
     "metadata": {},
     "output_type": "execute_result"
    }
   ],
   "source": [
    "np.random.seed(32)\n",
    "c_data=np.random.rand(2)\n",
    "c_data=c_data/sum(c_data)\n",
    "C_dataframe=pd.DataFrame([c_data], columns=['c1','c2'])\n",
    "C_dataframe"
   ]
  },
  {
   "cell_type": "code",
   "execution_count": 7,
   "id": "c2609e74",
   "metadata": {},
   "outputs": [
    {
     "data": {
      "text/html": [
       "<div>\n",
       "<style scoped>\n",
       "    .dataframe tbody tr th:only-of-type {\n",
       "        vertical-align: middle;\n",
       "    }\n",
       "\n",
       "    .dataframe tbody tr th {\n",
       "        vertical-align: top;\n",
       "    }\n",
       "\n",
       "    .dataframe thead th {\n",
       "        text-align: right;\n",
       "    }\n",
       "</style>\n",
       "<table border=\"1\" class=\"dataframe\">\n",
       "  <thead>\n",
       "    <tr style=\"text-align: right;\">\n",
       "      <th></th>\n",
       "      <th>m1</th>\n",
       "      <th>m2</th>\n",
       "      <th>m3</th>\n",
       "    </tr>\n",
       "  </thead>\n",
       "  <tbody>\n",
       "    <tr>\n",
       "      <th>a1b1c1</th>\n",
       "      <td>0.426335</td>\n",
       "      <td>0.263632</td>\n",
       "      <td>0.310033</td>\n",
       "    </tr>\n",
       "    <tr>\n",
       "      <th>a1b1c2</th>\n",
       "      <td>0.717889</td>\n",
       "      <td>0.172372</td>\n",
       "      <td>0.109739</td>\n",
       "    </tr>\n",
       "    <tr>\n",
       "      <th>a1b2c1</th>\n",
       "      <td>0.485484</td>\n",
       "      <td>0.272049</td>\n",
       "      <td>0.242467</td>\n",
       "    </tr>\n",
       "    <tr>\n",
       "      <th>a1b2c2</th>\n",
       "      <td>0.452454</td>\n",
       "      <td>0.453544</td>\n",
       "      <td>0.094001</td>\n",
       "    </tr>\n",
       "    <tr>\n",
       "      <th>a2b1c1</th>\n",
       "      <td>0.109714</td>\n",
       "      <td>0.316926</td>\n",
       "      <td>0.573359</td>\n",
       "    </tr>\n",
       "    <tr>\n",
       "      <th>a2b1c2</th>\n",
       "      <td>0.457980</td>\n",
       "      <td>0.320803</td>\n",
       "      <td>0.221217</td>\n",
       "    </tr>\n",
       "    <tr>\n",
       "      <th>a2b2c1</th>\n",
       "      <td>0.370386</td>\n",
       "      <td>0.330263</td>\n",
       "      <td>0.299351</td>\n",
       "    </tr>\n",
       "    <tr>\n",
       "      <th>a2b2c2</th>\n",
       "      <td>0.888113</td>\n",
       "      <td>0.079472</td>\n",
       "      <td>0.032414</td>\n",
       "    </tr>\n",
       "    <tr>\n",
       "      <th>a3b1c1</th>\n",
       "      <td>0.334003</td>\n",
       "      <td>0.261516</td>\n",
       "      <td>0.404481</td>\n",
       "    </tr>\n",
       "    <tr>\n",
       "      <th>a3b1c2</th>\n",
       "      <td>0.482542</td>\n",
       "      <td>0.240220</td>\n",
       "      <td>0.277237</td>\n",
       "    </tr>\n",
       "    <tr>\n",
       "      <th>a3b2c1</th>\n",
       "      <td>0.363938</td>\n",
       "      <td>0.266878</td>\n",
       "      <td>0.369184</td>\n",
       "    </tr>\n",
       "    <tr>\n",
       "      <th>a3b2c2</th>\n",
       "      <td>0.382578</td>\n",
       "      <td>0.116492</td>\n",
       "      <td>0.500930</td>\n",
       "    </tr>\n",
       "  </tbody>\n",
       "</table>\n",
       "</div>"
      ],
      "text/plain": [
       "              m1        m2        m3\n",
       "a1b1c1  0.426335  0.263632  0.310033\n",
       "a1b1c2  0.717889  0.172372  0.109739\n",
       "a1b2c1  0.485484  0.272049  0.242467\n",
       "a1b2c2  0.452454  0.453544  0.094001\n",
       "a2b1c1  0.109714  0.316926  0.573359\n",
       "a2b1c2  0.457980  0.320803  0.221217\n",
       "a2b2c1  0.370386  0.330263  0.299351\n",
       "a2b2c2  0.888113  0.079472  0.032414\n",
       "a3b1c1  0.334003  0.261516  0.404481\n",
       "a3b1c2  0.482542  0.240220  0.277237\n",
       "a3b2c1  0.363938  0.266878  0.369184\n",
       "a3b2c2  0.382578  0.116492  0.500930"
      ]
     },
     "execution_count": 7,
     "metadata": {},
     "output_type": "execute_result"
    }
   ],
   "source": [
    "np.random.seed(142)\n",
    "m_data=np.random.rand(12,3)\n",
    "m_data=m_data/m_data.sum(axis=1)[:,None]\n",
    "indexs=['a1b1c1','a1b1c2','a1b2c1','a1b2c2','a2b1c1','a2b1c2','a2b2c1','a2b2c2','a3b1c1','a3b1c2','a3b2c1','a3b2c2']\n",
    "M_dataframe=pd.DataFrame(m_data, columns=['m1','m2','m3'], index=indexs)\n",
    "M_dataframe"
   ]
  },
  {
   "cell_type": "code",
   "execution_count": 8,
   "id": "c091fc4e",
   "metadata": {},
   "outputs": [
    {
     "data": {
      "text/html": [
       "<div>\n",
       "<style scoped>\n",
       "    .dataframe tbody tr th:only-of-type {\n",
       "        vertical-align: middle;\n",
       "    }\n",
       "\n",
       "    .dataframe tbody tr th {\n",
       "        vertical-align: top;\n",
       "    }\n",
       "\n",
       "    .dataframe thead th {\n",
       "        text-align: right;\n",
       "    }\n",
       "</style>\n",
       "<table border=\"1\" class=\"dataframe\">\n",
       "  <thead>\n",
       "    <tr style=\"text-align: right;\">\n",
       "      <th></th>\n",
       "      <th>x1</th>\n",
       "      <th>x2</th>\n",
       "    </tr>\n",
       "  </thead>\n",
       "  <tbody>\n",
       "    <tr>\n",
       "      <th>m1</th>\n",
       "      <td>0.563518</td>\n",
       "      <td>0.436482</td>\n",
       "    </tr>\n",
       "    <tr>\n",
       "      <th>m2</th>\n",
       "      <td>0.278445</td>\n",
       "      <td>0.721555</td>\n",
       "    </tr>\n",
       "    <tr>\n",
       "      <th>m3</th>\n",
       "      <td>0.807209</td>\n",
       "      <td>0.192791</td>\n",
       "    </tr>\n",
       "  </tbody>\n",
       "</table>\n",
       "</div>"
      ],
      "text/plain": [
       "          x1        x2\n",
       "m1  0.563518  0.436482\n",
       "m2  0.278445  0.721555\n",
       "m3  0.807209  0.192791"
      ]
     },
     "execution_count": 8,
     "metadata": {},
     "output_type": "execute_result"
    }
   ],
   "source": [
    "np.random.seed(98)\n",
    "x_data=np.random.rand(3,2)\n",
    "x_data=x_data/x_data.sum(axis=1)[:,None]\n",
    "X_dataframe=pd.DataFrame(x_data, columns=['x1','x2'],index=['m1','m2','m3'] )\n",
    "X_dataframe"
   ]
  },
  {
   "cell_type": "code",
   "execution_count": 9,
   "id": "2a015bf1",
   "metadata": {},
   "outputs": [
    {
     "data": {
      "text/html": [
       "<div>\n",
       "<style scoped>\n",
       "    .dataframe tbody tr th:only-of-type {\n",
       "        vertical-align: middle;\n",
       "    }\n",
       "\n",
       "    .dataframe tbody tr th {\n",
       "        vertical-align: top;\n",
       "    }\n",
       "\n",
       "    .dataframe thead th {\n",
       "        text-align: right;\n",
       "    }\n",
       "</style>\n",
       "<table border=\"1\" class=\"dataframe\">\n",
       "  <thead>\n",
       "    <tr style=\"text-align: right;\">\n",
       "      <th></th>\n",
       "      <th>y1</th>\n",
       "      <th>y2</th>\n",
       "      <th>y3</th>\n",
       "    </tr>\n",
       "  </thead>\n",
       "  <tbody>\n",
       "    <tr>\n",
       "      <th>m1</th>\n",
       "      <td>0.521786</td>\n",
       "      <td>0.138564</td>\n",
       "      <td>0.339649</td>\n",
       "    </tr>\n",
       "    <tr>\n",
       "      <th>m2</th>\n",
       "      <td>0.327323</td>\n",
       "      <td>0.397684</td>\n",
       "      <td>0.274993</td>\n",
       "    </tr>\n",
       "    <tr>\n",
       "      <th>m3</th>\n",
       "      <td>0.260977</td>\n",
       "      <td>0.474105</td>\n",
       "      <td>0.264918</td>\n",
       "    </tr>\n",
       "  </tbody>\n",
       "</table>\n",
       "</div>"
      ],
      "text/plain": [
       "          y1        y2        y3\n",
       "m1  0.521786  0.138564  0.339649\n",
       "m2  0.327323  0.397684  0.274993\n",
       "m3  0.260977  0.474105  0.264918"
      ]
     },
     "execution_count": 9,
     "metadata": {},
     "output_type": "execute_result"
    }
   ],
   "source": [
    "np.random.seed(358)\n",
    "y_data=np.random.rand(3,3)\n",
    "y_data=y_data/y_data.sum(axis=1)[:,None]\n",
    "Y_dataframe=pd.DataFrame(y_data, columns=['y1','y2','y3'], index=['m1','m2','m3'])\n",
    "Y_dataframe"
   ]
  },
  {
   "cell_type": "code",
   "execution_count": 10,
   "id": "397dd04c",
   "metadata": {},
   "outputs": [
    {
     "data": {
      "text/html": [
       "<div>\n",
       "<style scoped>\n",
       "    .dataframe tbody tr th:only-of-type {\n",
       "        vertical-align: middle;\n",
       "    }\n",
       "\n",
       "    .dataframe tbody tr th {\n",
       "        vertical-align: top;\n",
       "    }\n",
       "\n",
       "    .dataframe thead th {\n",
       "        text-align: right;\n",
       "    }\n",
       "</style>\n",
       "<table border=\"1\" class=\"dataframe\">\n",
       "  <thead>\n",
       "    <tr style=\"text-align: right;\">\n",
       "      <th></th>\n",
       "      <th>m1</th>\n",
       "      <th>m2</th>\n",
       "      <th>m3</th>\n",
       "    </tr>\n",
       "  </thead>\n",
       "  <tbody>\n",
       "    <tr>\n",
       "      <th>x2,y3</th>\n",
       "      <td>0.148251</td>\n",
       "      <td>0.198422</td>\n",
       "      <td>0.051074</td>\n",
       "    </tr>\n",
       "  </tbody>\n",
       "</table>\n",
       "</div>"
      ],
      "text/plain": [
       "             m1        m2        m3\n",
       "x2,y3  0.148251  0.198422  0.051074"
      ]
     },
     "execution_count": 10,
     "metadata": {},
     "output_type": "execute_result"
    }
   ],
   "source": [
    "x2_y3=np.array(X_dataframe['x2']*Y_dataframe['y3']).reshape(1,3)\n",
    "X2_Y3_dataframe=pd.DataFrame(x2_y3,columns=['m1','m2','m3'], index=['x2,y3'])\n",
    "X2_Y3_dataframe"
   ]
  },
  {
   "cell_type": "code",
   "execution_count": 11,
   "id": "b389e0cd",
   "metadata": {},
   "outputs": [
    {
     "data": {
      "text/html": [
       "<div>\n",
       "<style scoped>\n",
       "    .dataframe tbody tr th:only-of-type {\n",
       "        vertical-align: middle;\n",
       "    }\n",
       "\n",
       "    .dataframe tbody tr th {\n",
       "        vertical-align: top;\n",
       "    }\n",
       "\n",
       "    .dataframe thead th {\n",
       "        text-align: right;\n",
       "    }\n",
       "</style>\n",
       "<table border=\"1\" class=\"dataframe\">\n",
       "  <thead>\n",
       "    <tr style=\"text-align: right;\">\n",
       "      <th></th>\n",
       "      <th>m1</th>\n",
       "      <th>m2</th>\n",
       "      <th>m3</th>\n",
       "    </tr>\n",
       "  </thead>\n",
       "  <tbody>\n",
       "    <tr>\n",
       "      <th>x2,y3</th>\n",
       "      <td>0.072851</td>\n",
       "      <td>0.057527</td>\n",
       "      <td>0.011168</td>\n",
       "    </tr>\n",
       "  </tbody>\n",
       "</table>\n",
       "</div>"
      ],
      "text/plain": [
       "             m1        m2        m3\n",
       "x2,y3  0.072851  0.057527  0.011168"
      ]
     },
     "execution_count": 11,
     "metadata": {},
     "output_type": "execute_result"
    }
   ],
   "source": [
    "a1,a2,a3=M_dataframe[0:4],M_dataframe[4:8],M_dataframe[8:12]\n",
    "a1_x2_y3_data=0\n",
    "for i in range (0,4):\n",
    "    a1_x2_y3_data+=a1.iloc[i]*X2_Y3_dataframe*np.array(B_dataframe)[0,int(i/2)]*np.array(C_dataframe)[0,i%2]\n",
    "a1_x2_y3_data"
   ]
  },
  {
   "cell_type": "code",
   "execution_count": 12,
   "id": "33769a13",
   "metadata": {},
   "outputs": [
    {
     "data": {
      "text/html": [
       "<div>\n",
       "<style scoped>\n",
       "    .dataframe tbody tr th:only-of-type {\n",
       "        vertical-align: middle;\n",
       "    }\n",
       "\n",
       "    .dataframe tbody tr th {\n",
       "        vertical-align: top;\n",
       "    }\n",
       "\n",
       "    .dataframe thead th {\n",
       "        text-align: right;\n",
       "    }\n",
       "</style>\n",
       "<table border=\"1\" class=\"dataframe\">\n",
       "  <thead>\n",
       "    <tr style=\"text-align: right;\">\n",
       "      <th></th>\n",
       "      <th>m1</th>\n",
       "      <th>m2</th>\n",
       "      <th>m3</th>\n",
       "    </tr>\n",
       "  </thead>\n",
       "  <tbody>\n",
       "    <tr>\n",
       "      <th>x2,y3</th>\n",
       "      <td>0.0593</td>\n",
       "      <td>0.055623</td>\n",
       "      <td>0.016327</td>\n",
       "    </tr>\n",
       "  </tbody>\n",
       "</table>\n",
       "</div>"
      ],
      "text/plain": [
       "           m1        m2        m3\n",
       "x2,y3  0.0593  0.055623  0.016327"
      ]
     },
     "execution_count": 12,
     "metadata": {},
     "output_type": "execute_result"
    }
   ],
   "source": [
    "a2_x2_y3_data=0\n",
    "for i in range (0,4):\n",
    "    a2_x2_y3_data+=a2.iloc[i]*X2_Y3_dataframe*np.array(B_dataframe)[0,int(i/2)]*np.array(C_dataframe)[0,i%2]\n",
    "a2_x2_y3_data"
   ]
  },
  {
   "cell_type": "code",
   "execution_count": 13,
   "id": "5e147691",
   "metadata": {},
   "outputs": [
    {
     "data": {
      "text/html": [
       "<div>\n",
       "<style scoped>\n",
       "    .dataframe tbody tr th:only-of-type {\n",
       "        vertical-align: middle;\n",
       "    }\n",
       "\n",
       "    .dataframe tbody tr th {\n",
       "        vertical-align: top;\n",
       "    }\n",
       "\n",
       "    .dataframe thead th {\n",
       "        text-align: right;\n",
       "    }\n",
       "</style>\n",
       "<table border=\"1\" class=\"dataframe\">\n",
       "  <thead>\n",
       "    <tr style=\"text-align: right;\">\n",
       "      <th></th>\n",
       "      <th>m1</th>\n",
       "      <th>m2</th>\n",
       "      <th>m3</th>\n",
       "    </tr>\n",
       "  </thead>\n",
       "  <tbody>\n",
       "    <tr>\n",
       "      <th>x2,y3</th>\n",
       "      <td>0.055356</td>\n",
       "      <td>0.046648</td>\n",
       "      <td>0.019996</td>\n",
       "    </tr>\n",
       "  </tbody>\n",
       "</table>\n",
       "</div>"
      ],
      "text/plain": [
       "             m1        m2        m3\n",
       "x2,y3  0.055356  0.046648  0.019996"
      ]
     },
     "execution_count": 13,
     "metadata": {},
     "output_type": "execute_result"
    }
   ],
   "source": [
    "a3_x2_y3_data=0\n",
    "for i in range (0,4):\n",
    "    a3_x2_y3_data+=a3.iloc[i]*X2_Y3_dataframe*np.array(B_dataframe)[0,int(i/2)]*np.array(C_dataframe)[0,i%2]\n",
    "a3_x2_y3_data"
   ]
  },
  {
   "cell_type": "code",
   "execution_count": 14,
   "id": "171cef3e",
   "metadata": {},
   "outputs": [
    {
     "name": "stdout",
     "output_type": "stream",
     "text": [
      "P(a1|x2,y3)= 0.14154702002224062\n",
      "P(a2|x2,y3)= 0.1312499951270641\n",
      "P(a3|x2,y3)= 0.1220004801745938\n"
     ]
    }
   ],
   "source": [
    "print(\"P(a1|x2,y3)=\",np.sum(np.array(a1_x2_y3_data)))\n",
    "print(\"P(a2|x2,y3)=\",np.sum(np.array(a2_x2_y3_data)))\n",
    "print(\"P(a3|x2,y3)=\",np.sum(np.array(a3_x2_y3_data)))"
   ]
  }
 ],
 "metadata": {
  "kernelspec": {
   "display_name": "Python 3 (ipykernel)",
   "language": "python",
   "name": "python3"
  },
  "language_info": {
   "codemirror_mode": {
    "name": "ipython",
    "version": 3
   },
   "file_extension": ".py",
   "mimetype": "text/x-python",
   "name": "python",
   "nbconvert_exporter": "python",
   "pygments_lexer": "ipython3",
   "version": "3.9.7"
  }
 },
 "nbformat": 4,
 "nbformat_minor": 5
}
