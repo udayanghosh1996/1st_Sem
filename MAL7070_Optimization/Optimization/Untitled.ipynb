{
 "cells": [
  {
   "cell_type": "code",
   "execution_count": 18,
   "id": "980a0a9b",
   "metadata": {},
   "outputs": [
    {
     "data": {
      "application/javascript": [
       "IPython.notebook.set_autosave_interval(1000)"
      ]
     },
     "metadata": {},
     "output_type": "display_data"
    },
    {
     "name": "stdout",
     "output_type": "stream",
     "text": [
      "Autosaving every 1 seconds\n"
     ]
    }
   ],
   "source": [
    "%autosave 1"
   ]
  },
  {
   "cell_type": "code",
   "execution_count": 19,
   "id": "2ee5ff00",
   "metadata": {},
   "outputs": [],
   "source": [
    "from scipy.optimize import minimize\n",
    "import random"
   ]
  },
  {
   "cell_type": "code",
   "execution_count": 29,
   "id": "0403684c",
   "metadata": {},
   "outputs": [],
   "source": [
    "r=65\n",
    "def constrain(x):\n",
    "   return pow(pow(x[0],2)+x[1],2) \n",
    "def penalty(x):\n",
    "    z=pow(pow(x[0],2)-r,2) + pow(pow(x[0],2)-2*x[1],2) + mu*constrain(x)\n",
    "    return z\n",
    "def differ(x):\n",
    "    a0=4*x[0]*(pow(x[0],2)-r) + 4*x[0]*(pow(x[0],2)-2*x[1]) + 4*mu*x[0]*(pow(x[0],2)+x[1])\n",
    "    a1=-4*(pow(x[0],2)-2*x[1]) +2*mu*(pow(x[0],2)+x[1])\n",
    "    return [a0,a1]"
   ]
  },
  {
   "cell_type": "code",
   "execution_count": 30,
   "id": "c88d6713",
   "metadata": {},
   "outputs": [
    {
     "name": "stdout",
     "output_type": "stream",
     "text": [
      "minimized value = 3803.7166965793076\n"
     ]
    }
   ],
   "source": [
    "x0=[random.random(),random.random()]\n",
    "b=10\n",
    "mu=0.1\n",
    "maxiter=200\n",
    "stop_criter=pow(10,-5)\n",
    "tol=1\n",
    "for i in range (1,maxiter):\n",
    "    if tol<stop_criter:\n",
    "        break\n",
    "    sol=minimize(penalty,x0,method='BFGS', jac=differ)\n",
    "    x0=sol.x\n",
    "    h=constrain(x0)\n",
    "    tol=mu*pow(h,2)\n",
    "    mu*=b\n",
    "    i+=1\n",
    "print('minimized value =',penalty(x0))"
   ]
  }
 ],
 "metadata": {
  "kernelspec": {
   "display_name": "Python 3 (ipykernel)",
   "language": "python",
   "name": "python3"
  },
  "language_info": {
   "codemirror_mode": {
    "name": "ipython",
    "version": 3
   },
   "file_extension": ".py",
   "mimetype": "text/x-python",
   "name": "python",
   "nbconvert_exporter": "python",
   "pygments_lexer": "ipython3",
   "version": "3.9.7"
  }
 },
 "nbformat": 4,
 "nbformat_minor": 5
}
