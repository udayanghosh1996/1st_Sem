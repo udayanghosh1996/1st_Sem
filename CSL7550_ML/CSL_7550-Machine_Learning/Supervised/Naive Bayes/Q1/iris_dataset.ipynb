{
 "cells": [
  {
   "cell_type": "code",
   "execution_count": 1,
   "id": "ac666a6b",
   "metadata": {},
   "outputs": [
    {
     "data": {
      "application/javascript": [
       "IPython.notebook.set_autosave_interval(1000)"
      ]
     },
     "metadata": {},
     "output_type": "display_data"
    },
    {
     "name": "stdout",
     "output_type": "stream",
     "text": [
      "Autosaving every 1 seconds\n"
     ]
    }
   ],
   "source": [
    " %autosave 1"
   ]
  },
  {
   "cell_type": "code",
   "execution_count": 31,
   "id": "f732af3b",
   "metadata": {},
   "outputs": [],
   "source": [
    "import numpy as np\n",
    "import pandas as pd\n",
    "from sklearn.model_selection import train_test_split\n",
    "from sklearn.metrics import confusion_matrix\n",
    "from sklearn.naive_bayes import GaussianNB\n",
    "from sklearn.metrics import accuracy_score,classification_report,confusion_matrix,roc_curve\n",
    "from sklearn.metrics import auc\n",
    "import matplotlib.pyplot as plt"
   ]
  },
  {
   "cell_type": "code",
   "execution_count": 3,
   "id": "fa27226c",
   "metadata": {},
   "outputs": [],
   "source": [
    "data=pd.read_csv(\"iris_dataset.csv\")\n",
    "#data.head()"
   ]
  },
  {
   "cell_type": "code",
   "execution_count": 21,
   "id": "6c17c15d",
   "metadata": {},
   "outputs": [],
   "source": [
    "data['variety'].replace(to_replace=data['variety'].unique(), \n",
    "                             value= list(range(len(data['variety'].unique()))), inplace=True)\n",
    "x=np.array(data.drop('variety', axis=1))\n",
    "y=np.array(data['variety'])\n",
    "x_train, x_test, y_train, y_test=train_test_split(x,y,test_size=0.2,random_state=144)\n",
    "#x_train.shape"
   ]
  },
  {
   "cell_type": "code",
   "execution_count": 54,
   "id": "03b9867e",
   "metadata": {},
   "outputs": [],
   "source": [
    "class NaiveBayesClassifier():\n",
    "    def __init__(self):\n",
    "        pass\n",
    "    def fit(self,x,y):\n",
    "        sample, feature=x.shape\n",
    "        self.unique_classes=np.unique(y)\n",
    "        self.number_classes=len(self.unique_classes)\n",
    "        prior=[]\n",
    "        mean=[]\n",
    "        var=[]\n",
    "        for i in self.unique_classes:\n",
    "            #print(i)\n",
    "            mean.append(np.mean(x[np.where(y==i)],axis=0, dtype=np.float64))\n",
    "            var.append(np.var(x[np.where(y==i)],axis=0, dtype=np.float64))\n",
    "            prior.append(np.sum(y==i)/np.float64(sample))\n",
    "            #self.prior_classes=np.sum(y==i,axis=0)/np.float64(sample)\n",
    "        self.prior_classes=np.array(prior)\n",
    "        self.mean_classes=np.array(mean)\n",
    "        self.var_classes=np.array(var)\n",
    "        #print(self.mean_classes)\n",
    "    def gaussian_distribution(self, sample, mean, var):\n",
    "        #print(sample, mean)\n",
    "        const=1/np.sqrt(var*2*np.pi)\n",
    "        probability=np.exp(-0.5*(pow(sample-mean,2)/var))\n",
    "        return const*probability\n",
    "    def calculate_postirior(self,x):\n",
    "        postirior=[]\n",
    "        for i, classes in enumerate(self.unique_classes):\n",
    "            prior=np.log(self.prior_classes)\n",
    "            likelihood=np.sum(np.log(self.gaussian_distribution(x,self.mean_classes[i],self.var_classes[i])))\n",
    "            #print(prior,likelihood)\n",
    "            postirior.append(prior+likelihood)\n",
    "        #print(np.array(postirior))\n",
    "        return np.array(postirior)\n",
    "    def predict_classes(self,x):\n",
    "        y_predict=[]\n",
    "        for elements in x:\n",
    "            y_predict.append(self.predict_class(elements))\n",
    "        return y_predict\n",
    "    def predict_class(self, element):\n",
    "        class_predicted=self.calculate_postirior(element)\n",
    "        #print(class_predicted)\n",
    "        return self.unique_classes[np.argmax(class_predicted[:,0],axis=0)]\n",
    "    def accuracy(self,y_test,y_predict):\n",
    "        return np.sum(y_test==y_predict)/len(y_test)"
   ]
  },
  {
   "cell_type": "code",
   "execution_count": 55,
   "id": "35650492",
   "metadata": {},
   "outputs": [
    {
     "name": "stdout",
     "output_type": "stream",
     "text": [
      "Overall Accuracy for Scratch model is: 96.67 %\n",
      "Setosa Accuracy for Scratch model is: 100.00 %\n",
      "Versicolor Accuracy for Scratch model is: 91.67 %\n",
      "Virginica Accuracy for Scratch model is: 100.00 %\n",
      "Confusion matrix for Scratch model is: \n",
      " [[ 7  0  0]\n",
      " [ 0 11  1]\n",
      " [ 0  0 11]]\n"
     ]
    }
   ],
   "source": [
    "nbc=NaiveBayesClassifier()\n",
    "nbc.fit(x_train,y_train)\n",
    "y_predict=nbc.predict_classes(x_test)\n",
    "y_unique_classes=np.unique(y_test)\n",
    "x_setosa=x_test[np.where(y_test==y_unique_classes[0])]\n",
    "x_versicolor=x_test[np.where(y_test==y_unique_classes[1])]\n",
    "x_virginica=x_test[np.where(y_test==y_unique_classes[2])]\n",
    "y_test_setosa=y_test[np.where(y_test==0)]\n",
    "y_test_versicolor=y_test[np.where(y_test==1)]\n",
    "y_test_virginica=y_test[np.where(y_test==2)]\n",
    "y_predict_setosa=nbc.predict_classes(x_setosa)\n",
    "y_predict_versicolor=nbc.predict_classes(x_versicolor)\n",
    "y_predict_virginica=nbc.predict_classes(x_virginica)\n",
    "print(\"Overall Accuracy for Scratch model is: %.2f\"%(nbc.accuracy(y_test,y_predict)*100),\"%\")\n",
    "print(\"Setosa Accuracy for Scratch model is: %.2f\"%(nbc.accuracy(y_test_setosa,y_predict_setosa)*100),'%')\n",
    "print(\"Versicolor Accuracy for Scratch model is: %.2f\"%(nbc.accuracy(y_test_versicolor,y_predict_versicolor)*100),'%')\n",
    "print(\"Virginica Accuracy for Scratch model is: %.2f\"%(nbc.accuracy(y_test_virginica,y_predict_virginica)*100),'%')\n",
    "smcm=confusion_matrix(y_test,y_predict)\n",
    "print(\"Confusion matrix for Scratch model is: \\n\",smcm)"
   ]
  },
  {
   "cell_type": "code",
   "execution_count": 56,
   "id": "430e4f5d",
   "metadata": {},
   "outputs": [
    {
     "data": {
      "image/png": "[encoded data removed]",
      "text/plain": [
       "<Figure size 432x288 with 1 Axes>"
      ]
     },
     "metadata": {
      "needs_background": "light"
     },
     "output_type": "display_data"
    }
   ],
   "source": [
    "fpr,tpr,thresold=roc_curve(y_test, y_predict, pos_label=1)\n",
    "plt.plot(fpr,tpr)\n",
    "plt.xlabel(\"FPR\")\n",
    "plt.ylabel(\"TPR\")\n",
    "plt.title(\"ROC with Scratch model\")\n",
    "plt.show()"
   ]
  },
  {
   "cell_type": "code",
   "execution_count": 57,
   "id": "1cfd76bf",
   "metadata": {},
   "outputs": [
    {
     "name": "stdout",
     "output_type": "stream",
     "text": [
      "Area under the curve with scratch model is : 0.4143518518518518\n"
     ]
    }
   ],
   "source": [
    "area=auc(fpr,tpr)\n",
    "print(\"Area under the curve with scratch model is :\", area)"
   ]
  },
  {
   "cell_type": "code",
   "execution_count": 62,
   "id": "81bdb9fe",
   "metadata": {},
   "outputs": [
    {
     "name": "stdout",
     "output_type": "stream",
     "text": [
      "Overall accuracy for SKlearn model is :96.67 %\n",
      "Accuracy for Setosa for SKlearn model is :100.00 %\n",
      "Accuracy for Versicolor for SKlearn model is :91.67 %\n",
      "Accuracy for Virginica for SKlearn model is :100.00 %\n",
      "Confusion matrix for Sklearn model is: \n",
      " [[ 7  0  0]\n",
      " [ 0 11  1]\n",
      " [ 0  0 11]]\n"
     ]
    }
   ],
   "source": [
    "gnb=GaussianNB()\n",
    "gnb.fit(x_train,y_train)\n",
    "y_predict_sklearn=gnb.predict(x_test)\n",
    "accuracy_sklearn=accuracy_score(y_test,y_predict_sklearn)\n",
    "print(\"Overall accuracy for SKlearn model is :%.2f\"%(accuracy_sklearn*100),\"%\")\n",
    "y_predict_setosa_sklearn=gnb.predict(x_setosa)\n",
    "accuracy_setosa_sklearn=accuracy_score(y_test_setosa,y_predict_setosa_sklearn)\n",
    "print(\"Accuracy for Setosa for SKlearn model is :%.2f\"%(accuracy_setosa_sklearn*100),\"%\")\n",
    "y_predict_versicolor_sklearn=gnb.predict(x_versicolor)\n",
    "accuracy_versicolor_sklearn=accuracy_score(y_test_versicolor,y_predict_versicolor_sklearn)\n",
    "print(\"Accuracy for Versicolor for SKlearn model is :%.2f\"%(accuracy_versicolor_sklearn*100),\"%\")\n",
    "y_predict_virginica_sklearn=gnb.predict(x_virginica)\n",
    "accuracy_virginica_sklearn=accuracy_score(y_test_virginica,y_predict_virginica_sklearn)\n",
    "print(\"Accuracy for Virginica for SKlearn model is :%.2f\"%(accuracy_virginica_sklearn*100),\"%\")\n",
    "smcm_sklearn=confusion_matrix(y_test,y_predict_sklearn)\n",
    "print(\"Confusion matrix for Sklearn model is: \\n\",smcm_sklearn)"
   ]
  },
  {
   "cell_type": "code",
   "execution_count": 59,
   "id": "dfe9906a",
   "metadata": {},
   "outputs": [
    {
     "data": {
      "image/png": "[encoded data removed]",
      "text/plain": [
       "<Figure size 432x288 with 1 Axes>"
      ]
     },
     "metadata": {
      "needs_background": "light"
     },
     "output_type": "display_data"
    }
   ],
   "source": [
    "fpr_sklearn,tpr_sklearn,thresold_sklearn=roc_curve(y_test, y_predict_sklearn, pos_label=1)\n",
    "plt.plot(fpr_sklearn,tpr_sklearn)\n",
    "plt.xlabel(\"FPR\")\n",
    "plt.ylabel(\"TPR\")\n",
    "plt.title(\"ROC with Sklearn model\")\n",
    "plt.show()"
   ]
  },
  {
   "cell_type": "code",
   "execution_count": 60,
   "id": "a1513786",
   "metadata": {},
   "outputs": [
    {
     "name": "stdout",
     "output_type": "stream",
     "text": [
      "Area under the curve with SKlearn model is : 0.4143518518518518\n"
     ]
    }
   ],
   "source": [
    "area_sklearn=auc(fpr_sklearn,tpr_sklearn)\n",
    "print(\"Area under the curve with SKlearn model is :\", area_sklearn)"
   ]
  },
  {
   "cell_type": "code",
   "execution_count": 63,
   "id": "c3739926",
   "metadata": {},
   "outputs": [
    {
     "name": "stdout",
     "output_type": "stream",
     "text": [
      "Bayes risk : 51\n"
     ]
    }
   ],
   "source": [
    "loss_function=np.array([[2,1,6],[4,2,4],[6,3,1]])\n",
    "loss_matrix=np.multiply(smcm,loss_function)\n",
    "risk=np.sum(loss_matrix)\n",
    "print(\"Bayes risk :\",risk)"
   ]
  }
 ],
 "metadata": {
  "kernelspec": {
   "display_name": "Python 3 (ipykernel)",
   "language": "python",
   "name": "python3"
  },
  "language_info": {
   "codemirror_mode": {
    "name": "ipython",
    "version": 3
   },
   "file_extension": ".py",
   "mimetype": "text/x-python",
   "name": "python",
   "nbconvert_exporter": "python",
   "pygments_lexer": "ipython3",
   "version": "3.10.2"
  }
 },
 "nbformat": 4,
 "nbformat_minor": 5
}
