{
 "cells": [
  {
   "cell_type": "code",
   "execution_count": 1,
   "id": "ec60cab1",
   "metadata": {},
   "outputs": [
    {
     "data": {
      "application/javascript": [
       "IPython.notebook.set_autosave_interval(1000)"
      ]
     },
     "metadata": {},
     "output_type": "display_data"
    },
    {
     "name": "stdout",
     "output_type": "stream",
     "text": [
      "Autosaving every 1 seconds\n"
     ]
    }
   ],
   "source": [
    "%autosave 1"
   ]
  },
  {
   "cell_type": "code",
   "execution_count": 2,
   "id": "d1588d96",
   "metadata": {},
   "outputs": [],
   "source": [
    "import numpy as np\n",
    "import pandas as pd\n",
    "from sklearn.model_selection import train_test_split\n",
    "from sklearn.naive_bayes import GaussianNB\n",
    "from sklearn.metrics import accuracy_score,classification_report,confusion_matrix,roc_curve\n",
    "import matplotlib.pyplot as plt\n",
    "from mlxtend.plotting import plot_decision_regions"
   ]
  },
  {
   "cell_type": "code",
   "execution_count": 3,
   "id": "9cf21f7e",
   "metadata": {},
   "outputs": [],
   "source": [
    "link=\"http://archive.ics.uci.edu/ml/machine-learning-databases/breast-cancer/breast-cancer.data\"\n",
    "columns=[\"class_\",\"age\",\"menopause\",\"tumor-size\",\"inv-nodes\",\"node-caps\",\"deg-malig\",\"breast\",\"breast-quad\",\"irradiat\"]\n",
    "data_frame = pd.read_csv(link, names=columns)\n",
    "data_frame.drop(data_frame.loc[data_frame['node-caps']=='?'].index,inplace=True)\n",
    "data_frame.drop(data_frame.loc[data_frame['breast-quad']=='?'].index,inplace=True)\n",
    "x=data_frame.drop(['class_'], axis=1)\n",
    "y=data_frame['class_']"
   ]
  },
  {
   "cell_type": "code",
   "execution_count": 4,
   "id": "01ff7604",
   "metadata": {},
   "outputs": [],
   "source": [
    "y.replace(to_replace=y.unique(), \n",
    "                            value= list(range(len(y.unique()))), inplace=True)\n",
    "x['age'].replace(to_replace=x['age'].unique(), \n",
    "                             value= list(range(len(x['age'].unique()))), inplace=True)\n",
    "x['menopause'].replace(to_replace=x['menopause'].unique(), \n",
    "                             value= list(range(len(x['menopause'].unique()))), inplace=True)\n",
    "x['tumor-size'].replace(to_replace=x['tumor-size'].unique(), \n",
    "                             value= list(range(len(x['tumor-size'].unique()))), inplace=True)\n",
    "x['inv-nodes'].replace(to_replace=x['inv-nodes'].unique(), \n",
    "                             value= list(range(len(x['inv-nodes'].unique()))), inplace=True)\n",
    "x['node-caps'].replace(to_replace=x['node-caps'].unique(), \n",
    "                             value= list(range(len(x['node-caps'].unique()))), inplace=True)\n",
    "x['breast'].replace(to_replace=x['breast'].unique(), \n",
    "                             value= list(range(len(x['breast'].unique()))), inplace=True)\n",
    "x['breast-quad'].replace(to_replace=x['breast-quad'].unique(), \n",
    "                             value= list(range(len(x['breast-quad'].unique()))), inplace=True)\n",
    "x['irradiat'].replace(to_replace=x['irradiat'].unique(), \n",
    "                             value= list(range(len(x['irradiat'].unique()))), inplace=True)"
   ]
  },
  {
   "cell_type": "code",
   "execution_count": 5,
   "id": "f5ab1b6f",
   "metadata": {},
   "outputs": [
    {
     "name": "stdout",
     "output_type": "stream",
     "text": [
      "              precision    recall  f1-score   support\n",
      "\n",
      "           0       0.86      0.84      0.85        44\n",
      "           1       0.46      0.50      0.48        12\n",
      "\n",
      "    accuracy                           0.77        56\n",
      "   macro avg       0.66      0.67      0.67        56\n",
      "weighted avg       0.77      0.77      0.77        56\n",
      "\n"
     ]
    },
    {
     "data": {
      "image/png": "[encoded data removed]",
      "text/plain": [
       "<Figure size 432x288 with 1 Axes>"
      ]
     },
     "metadata": {
      "needs_background": "light"
     },
     "output_type": "display_data"
    }
   ],
   "source": [
    "x_train,x_test,y_train,y_test=train_test_split(x,y,test_size=0.2, random_state=144)\n",
    "gnb=GaussianNB()\n",
    "gnb.fit(x_train, y_train)\n",
    "y_predict=gnb.predict(x_test)\n",
    "#plot_decision_regions(np.array(x_test),np.array(y_test), clf=gnb,legend=2)\n",
    "z=accuracy_score(y_test,y_predict)\n",
    "print(classification_report(y_test,y_predict))\n",
    "fpr,tpr,threshold=roc_curve(y_test,y_predict,pos_label=1)\n",
    "#print(tpr,fpr)\n",
    "plt.plot(tpr,fpr)\n",
    "plt.xlabel(\"False Positive Rate\")\n",
    "plt.ylabel(\"True Positive Rate\")\n",
    "plt.title(\"ROC\")\n",
    "plt.show()"
   ]
  },
  {
   "cell_type": "code",
   "execution_count": null,
   "id": "1343729e",
   "metadata": {},
   "outputs": [],
   "source": []
  }
 ],
 "metadata": {
  "kernelspec": {
   "display_name": "Python 3 (ipykernel)",
   "language": "python",
   "name": "python3"
  },
  "language_info": {
   "codemirror_mode": {
    "name": "ipython",
    "version": 3
   },
   "file_extension": ".py",
   "mimetype": "text/x-python",
   "name": "python",
   "nbconvert_exporter": "python",
   "pygments_lexer": "ipython3",
   "version": "3.9.12"
  }
 },
 "nbformat": 4,
 "nbformat_minor": 5
}
