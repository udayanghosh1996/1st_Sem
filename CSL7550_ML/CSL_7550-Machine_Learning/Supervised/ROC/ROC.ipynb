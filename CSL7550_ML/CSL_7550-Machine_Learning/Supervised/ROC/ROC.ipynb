{
 "cells": [
  {
   "cell_type": "code",
   "execution_count": 2,
   "id": "04b0d2c9",
   "metadata": {
    "scrolled": true
   },
   "outputs": [],
   "source": [
    "import numpy as np\n",
    "import matplotlib.pyplot as plt"
   ]
  },
  {
   "cell_type": "code",
   "execution_count": 3,
   "id": "d7ec1dfd",
   "metadata": {},
   "outputs": [],
   "source": [
    "def create_tf_matrix(input_arr, thsld):\n",
    "    tf_arr=[]\n",
    "    for elements in input_arr:\n",
    "        if elements<thsld:\n",
    "            tf_arr.append(False)\n",
    "        else:\n",
    "            tf_arr.append(True)\n",
    "    return tf_arr"
   ]
  },
  {
   "cell_type": "code",
   "execution_count": 4,
   "id": "104287fa",
   "metadata": {},
   "outputs": [],
   "source": [
    "def get_conf_matrx_element(input_arr, ref_arr):\n",
    "    tp=0\n",
    "    tn=0\n",
    "    fp=0\n",
    "    fn=0\n",
    "    conf=[]\n",
    "    for index in range(0,len(ref_arr)):\n",
    "        if ref_arr[index]==False and input_arr[index]==False:\n",
    "            tn=tn+1\n",
    "        elif ref_arr[index]==False and input_arr[index]==True:\n",
    "            fp=fp+1\n",
    "        elif ref_arr[index]==True and input_arr[index]==False:\n",
    "            fn=fn+1\n",
    "        else:\n",
    "            tp=tp+1\n",
    "    conf.append(tp)\n",
    "    conf.append(tn)\n",
    "    conf.append(fp)\n",
    "    conf.append(fn)\n",
    "    return conf"
   ]
  },
  {
   "cell_type": "code",
   "execution_count": 5,
   "id": "04a80cc3",
   "metadata": {},
   "outputs": [],
   "source": [
    "def get_roc_points(conf):\n",
    "    roc_points=np.empty((len(conf),2))\n",
    "    for index, arr in enumerate(conf):\n",
    "        roc_point=[]\n",
    "        roc_point.append(arr[0]/(arr[0]+arr[3]))\n",
    "        roc_point.append(arr[2]/(arr[2]+arr[1]))\n",
    "        roc_points[index]=np.array(roc_point)\n",
    "    return roc_points"
   ]
  },
  {
   "cell_type": "code",
   "execution_count": 6,
   "id": "1e3d618a",
   "metadata": {},
   "outputs": [],
   "source": [
    "def auc(y,x):\n",
    "    area=np.trapz(y,x,axis=-1)\n",
    "    return abs(area)"
   ]
  },
  {
   "cell_type": "code",
   "execution_count": 7,
   "id": "401360fc",
   "metadata": {},
   "outputs": [
    {
     "name": "stdout",
     "output_type": "stream",
     "text": [
      "AUC for model1 is: 0.9923660388862101\n",
      "AUC for model2 is: 0.9718799286104365\n",
      "True Positive Rate for Model1 when false acceptance rate is .10% is:  98.93 %\n",
      "True Positive Rate for Model2 when false acceptance rate is .10% is: 95.15 %\n"
     ]
    },
    {
     "data": {
      "image/png": "[encoded data removed]",
      "text/plain": [
       "<Figure size 432x288 with 1 Axes>"
      ]
     },
     "metadata": {
      "needs_background": "light"
     },
     "output_type": "display_data"
    }
   ],
   "source": [
    "if __name__ == \"__main__\":\n",
    "    score1=np.load(\"score.npy\")\n",
    "    score2=np.load(\"score1.npy\")\n",
    "    label=np.load(\"label.npy\")\n",
    "    thsld_scr1=np.linspace(0,score1.max(),151)\n",
    "    thsld_scr2=np.linspace(0,score2.max(),151)\n",
    "    score1_tf_matrix=np.empty((len(thsld_scr1),len(score1)))\n",
    "    score2_tf_matrix=np.empty((len(thsld_scr2),len(score2)))\n",
    "    for index, thsld in enumerate(thsld_scr1):\n",
    "        score1_tf_matrix[index]=np.array(create_tf_matrix(score1,thsld))\n",
    "    for index, thsld in enumerate(thsld_scr2):\n",
    "        score2_tf_matrix[index]=np.array(create_tf_matrix(score2,thsld))\n",
    "    label_tf_matrix=create_tf_matrix(label,0.2)\n",
    "    con_mtrx_score1=np.empty((len(thsld_scr1),4))\n",
    "    con_mtrx_score2=np.empty((len(thsld_scr2),4))\n",
    "    for index, elements in enumerate(score1_tf_matrix):\n",
    "        con_mtrx_score1[index]=np.array(get_conf_matrx_element(elements,label_tf_matrix))\n",
    "    for index, elements in enumerate(score2_tf_matrix):\n",
    "        con_mtrx_score2[index]=np.array(get_conf_matrx_element(elements,label_tf_matrix))\n",
    "    roc_points_score1=get_roc_points(con_mtrx_score1)\n",
    "    roc_points_score2=get_roc_points(con_mtrx_score2)\n",
    "    x_score1=[]\n",
    "    y_score1=[]\n",
    "    x_score2=[]\n",
    "    y_score2=[]\n",
    "    for elements in roc_points_score1:\n",
    "        x_score1.append(elements[1])\n",
    "        y_score1.append(elements[0])\n",
    "    for elements in roc_points_score2:\n",
    "        x_score2.append(elements[1])\n",
    "        y_score2.append(elements[0])\n",
    "    x_score1=x_score1[::-1]\n",
    "    x_score2=x_score2[::-1]\n",
    "    y_score1=y_score1[::-1]\n",
    "    y_score2=y_score2[::-1]\n",
    "    plt.plot(x_score1,y_score1, label= 'score1')\n",
    "    plt.plot(x_score2,y_score2, label= 'score2')\n",
    "    plt.legend([\"score1\",\"score2\"])\n",
    "    plt.xlabel(\"False Positive Rate\")\n",
    "    plt.ylabel(\"True Positive Rate\")\n",
    "    plt.title(\"ROC Curve\")\n",
    "    print(\"AUC for model1 is:\",auc(y_score1,x_score1))\n",
    "    print(\"AUC for model2 is:\",auc(y_score2,x_score2))\n",
    "    print(\"True Positive Rate for Model1 when false acceptance rate is .10% is: \",round(np.interp(.1,x_score1,y_score1)*100,2),\"%\")\n",
    "    print(\"True Positive Rate for Model2 when false acceptance rate is .10% is:\",round(np.interp(.1,x_score2,y_score2)*100,2),\"%\")\n",
    "    "
   ]
  },
  {
   "cell_type": "code",
   "execution_count": null,
   "id": "fb6fee69",
   "metadata": {},
   "outputs": [],
   "source": []
  }
 ],
 "metadata": {
  "kernelspec": {
   "display_name": "Python 3",
   "language": "python",
   "name": "python3"
  },
  "language_info": {
   "codemirror_mode": {
    "name": "ipython",
    "version": 3
   },
   "file_extension": ".py",
   "mimetype": "text/x-python",
   "name": "python",
   "nbconvert_exporter": "python",
   "pygments_lexer": "ipython3",
   "version": "3.9.4"
  }
 },
 "nbformat": 4,
 "nbformat_minor": 5
}
