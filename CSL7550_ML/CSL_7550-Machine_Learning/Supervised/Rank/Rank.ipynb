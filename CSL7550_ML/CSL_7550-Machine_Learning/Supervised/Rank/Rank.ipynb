{
 "cells": [
  {
   "cell_type": "code",
   "execution_count": 1,
   "id": "c329981a",
   "metadata": {},
   "outputs": [],
   "source": [
    "import numpy as np\n",
    "import matplotlib.pyplot as plt"
   ]
  },
  {
   "cell_type": "code",
   "execution_count": 2,
   "id": "8a16b066",
   "metadata": {},
   "outputs": [],
   "source": [
    "def create_partition_array(arr,rank):\n",
    "    length=np.size(arr[0])-rank\n",
    "    return np.argpartition(arr,length,axis=-1)[:,length:]"
   ]
  },
  {
   "cell_type": "code",
   "execution_count": 3,
   "id": "3292ad73",
   "metadata": {},
   "outputs": [],
   "source": [
    "def calculate_accuracy(ref,check):\n",
    "    same=0\n",
    "    for i in range(0,np.size(ref)):\n",
    "        if ref[i] in check[i]:\n",
    "            same=same+1\n",
    "    accuracy=same/np.size(ref)\n",
    "    return accuracy*100"
   ]
  },
  {
   "cell_type": "code",
   "execution_count": 11,
   "id": "43764824",
   "metadata": {},
   "outputs": [
    {
     "data": {
      "image/png": "[encoded data removed]",
      "text/plain": [
       "<Figure size 432x288 with 1 Axes>"
      ]
     },
     "metadata": {
      "needs_background": "light"
     },
     "output_type": "display_data"
    }
   ],
   "source": [
    "if __name__ == \"__main__\":\n",
    "    score=np.load(\"score.npy\")\n",
    "    label=np.load(\"label.npy\")\n",
    "    rank=[]\n",
    "    accuracy=[]\n",
    "    for i in range (1,11):\n",
    "        part_score=create_partition_array(score,i)\n",
    "        part_label=np.argmax(label, axis=-1)\n",
    "        rank.append(i)\n",
    "        accuracy.append(calculate_accuracy(part_label,part_score))\n",
    "    plt.plot(rank,accuracy)\n",
    "    plt.xlabel(\"Rank\")\n",
    "    plt.ylabel(\"Accuracy\")\n",
    "    plt.title(\"CMC Curve\")    "
   ]
  }
 ],
 "metadata": {
  "kernelspec": {
   "display_name": "Python 3",
   "language": "python",
   "name": "python3"
  },
  "language_info": {
   "codemirror_mode": {
    "name": "ipython",
    "version": 3
   },
   "file_extension": ".py",
   "mimetype": "text/x-python",
   "name": "python",
   "nbconvert_exporter": "python",
   "pygments_lexer": "ipython3",
   "version": "3.9.4"
  }
 },
 "nbformat": 4,
 "nbformat_minor": 5
}
