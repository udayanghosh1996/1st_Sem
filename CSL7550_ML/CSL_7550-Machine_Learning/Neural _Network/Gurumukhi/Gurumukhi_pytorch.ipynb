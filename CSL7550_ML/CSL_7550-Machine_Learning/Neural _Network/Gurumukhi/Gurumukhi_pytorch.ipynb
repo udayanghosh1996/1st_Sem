{
 "cells": [
  {
   "cell_type": "code",
   "execution_count": 1,
   "id": "31a1b3e3",
   "metadata": {},
   "outputs": [
    {
     "data": {
      "application/javascript": [
       "IPython.notebook.set_autosave_interval(1000)"
      ]
     },
     "metadata": {},
     "output_type": "display_data"
    },
    {
     "name": "stdout",
     "output_type": "stream",
     "text": [
      "Autosaving every 1 seconds\n"
     ]
    }
   ],
   "source": [
    "%autosave 1"
   ]
  },
  {
   "cell_type": "code",
   "execution_count": 2,
   "id": "031c899a",
   "metadata": {},
   "outputs": [],
   "source": [
    "import numpy as np\n",
    "import torch\n",
    "import torchvision\n",
    "from time import time\n",
    "from torchvision import datasets, transforms\n",
    "from torch import nn, optim\n",
    "import os\n",
    "from torch.utils.data import DataLoader, dataloader\n",
    "from torch import nn\n",
    "from torch.autograd import Variable"
   ]
  },
  {
   "cell_type": "code",
   "execution_count": 3,
   "id": "dd22a22a",
   "metadata": {},
   "outputs": [],
   "source": [
    "transform=transforms.Compose([transforms.Grayscale(),\n",
    "                             transforms.ToTensor()])"
   ]
  },
  {
   "cell_type": "code",
   "execution_count": 4,
   "id": "50f051f3",
   "metadata": {},
   "outputs": [],
   "source": [
    "path=os.getcwd()\n",
    "train_dataset = datasets.ImageFolder(os.path.join(path,'train'), transform=transform)\n",
    "test_dataset = datasets.ImageFolder(os.path.join(path,'val'), transform=transform)\n",
    "train_set, val_set = torch.utils.data.random_split(train_dataset, [895, 100])\n",
    "#train_loader = DataLoader(train_dataset, batch_size=64, shuffle=True)\n",
    "train_loader = DataLoader(train_set, batch_size=64, shuffle=True)\n",
    "val_loader = DataLoader(val_set, batch_size=64, shuffle=True)\n",
    "test_loader = DataLoader(test_dataset, batch_size=64, shuffle=True)"
   ]
  },
  {
   "cell_type": "code",
   "execution_count": 5,
   "id": "83111eff",
   "metadata": {},
   "outputs": [
    {
     "name": "stdout",
     "output_type": "stream",
     "text": [
      "torch.Size([64, 1, 32, 32])\n",
      "torch.Size([64])\n"
     ]
    }
   ],
   "source": [
    "dataiter = iter(train_loader)\n",
    "images, labels = dataiter.next()\n",
    "print(images.shape)\n",
    "print(labels.shape)"
   ]
  },
  {
   "cell_type": "code",
   "execution_count": 6,
   "id": "6e397d3d",
   "metadata": {},
   "outputs": [],
   "source": [
    "class Gurumukhi(nn.Module):\n",
    "    def __init__(self):\n",
    "        super(Gurumukhi,self).__init__()\n",
    "        self.layer1 = nn.Linear(1024,512)\n",
    "        self.layer2 = nn.Linear(512,256)\n",
    "        self.Final = nn.Linear(256,10)\n",
    "        self.relu = nn.ReLU()\n",
    "        self.logsoftmax = nn.LogSoftmax()\n",
    "    def forward(self, data):\n",
    "        mtx = torch.flatten(data, start_dim=1)\n",
    "        mtx = self.layer1(mtx)\n",
    "        mtx = self.relu(mtx)\n",
    "        mtx = self.layer2(mtx)\n",
    "        mtx = self.relu(mtx)\n",
    "        mtx = self.Final(mtx)\n",
    "        mtx = self.logsoftmax(mtx)\n",
    "        return mtx"
   ]
  },
  {
   "cell_type": "code",
   "execution_count": 8,
   "id": "d2025a10",
   "metadata": {},
   "outputs": [
    {
     "name": "stderr",
     "output_type": "stream",
     "text": [
      "C:\\Users\\udaya\\AppData\\Local\\Temp/ipykernel_22384/636005778.py:16: UserWarning: Implicit dimension choice for log_softmax has been deprecated. Change the call to include dim=X as an argument.\n",
      "  mtx = self.logsoftmax(mtx)\n"
     ]
    },
    {
     "name": "stdout",
     "output_type": "stream",
     "text": [
      "Epoch 1 - Training Loss: 2.216328110013689\n",
      "Training Accuracy: 32.29050279329609\n",
      "Training Time in Minute= 0.0059590975443522135\n",
      "Validation Accuracy: 72.0\n",
      "\n",
      "Epoch 2 - Training Loss: 1.74700323172978\n",
      "Training Accuracy: 76.87150837988827\n",
      "Training Time in Minute= 0.01230841875076294\n",
      "Validation Accuracy: 92.0\n",
      "\n",
      "Epoch 3 - Training Loss: 0.8504120026315961\n",
      "Training Accuracy: 87.0391061452514\n",
      "Training Time in Minute= 0.018380844593048097\n",
      "Validation Accuracy: 92.0\n",
      "\n",
      "Epoch 4 - Training Loss: 0.34964234062603544\n",
      "Training Accuracy: 92.73743016759776\n",
      "Training Time in Minute= 0.025158182779947916\n",
      "Validation Accuracy: 95.0\n",
      "\n",
      "Epoch 5 - Training Loss: 0.2082644615854536\n",
      "Training Accuracy: 93.5195530726257\n",
      "Training Time in Minute= 0.030889356136322023\n",
      "Validation Accuracy: 91.0\n",
      "\n",
      "Epoch 6 - Training Loss: 0.17520262088094438\n",
      "Training Accuracy: 93.5195530726257\n",
      "Training Time in Minute= 0.03735106388727824\n",
      "Validation Accuracy: 86.0\n",
      "\n",
      "Epoch 7 - Training Loss: 0.15692411230078765\n",
      "Training Accuracy: 94.74860335195531\n",
      "Training Time in Minute= 0.04354803164800008\n",
      "Validation Accuracy: 96.0\n",
      "\n",
      "Epoch 8 - Training Loss: 0.12686774720038688\n",
      "Training Accuracy: 95.53072625698324\n",
      "Training Time in Minute= 0.05052464008331299\n",
      "Validation Accuracy: 97.0\n",
      "\n",
      "Epoch 9 - Training Loss: 0.08965225092002324\n",
      "Training Accuracy: 97.09497206703911\n",
      "Training Time in Minute= 0.05622225999832153\n",
      "Validation Accuracy: 97.0\n",
      "\n",
      "Epoch 10 - Training Loss: 0.05703212773161275\n",
      "Training Accuracy: 98.99441340782123\n",
      "Training Time in Minute= 0.06255772113800048\n",
      "Validation Accuracy: 98.0\n",
      "\n",
      "Epoch 11 - Training Loss: 0.042331235616334846\n",
      "Training Accuracy: 99.10614525139665\n",
      "Training Time in Minute= 0.06867262522379557\n",
      "Validation Accuracy: 99.0\n",
      "\n",
      "Epoch 12 - Training Loss: 0.03216894682762878\n",
      "Training Accuracy: 99.4413407821229\n",
      "Training Time in Minute= 0.0749350110689799\n",
      "Validation Accuracy: 99.0\n",
      "\n",
      "Epoch 13 - Training Loss: 0.025543407337473973\n",
      "Training Accuracy: 99.77653631284916\n",
      "Training Time in Minute= 0.08045013348261515\n",
      "Validation Accuracy: 99.0\n",
      "\n",
      "Epoch 14 - Training Loss: 0.02477895561605692\n",
      "Training Accuracy: 99.88826815642457\n",
      "Training Time in Minute= 0.08692866166432699\n",
      "Validation Accuracy: 99.0\n",
      "\n",
      "Epoch 15 - Training Loss: 0.026420971910868372\n",
      "Training Accuracy: 99.55307262569832\n",
      "Training Time in Minute= 0.09317444562911988\n",
      "Validation Accuracy: 97.0\n",
      "\n",
      "Epoch 16 - Training Loss: 0.019260305312595198\n",
      "Training Accuracy: 99.88826815642457\n",
      "Training Time in Minute= 0.09912120501200358\n",
      "Validation Accuracy: 99.0\n",
      "\n",
      "Epoch 17 - Training Loss: 0.019221916129546508\n",
      "Training Accuracy: 99.88826815642457\n",
      "Training Time in Minute= 0.10517774820327759\n",
      "Validation Accuracy: 98.0\n",
      "\n",
      "Epoch 18 - Training Loss: 0.013690966347764646\n",
      "Training Accuracy: 99.88826815642457\n",
      "Training Time in Minute= 0.11138049364089966\n",
      "Validation Accuracy: 99.0\n",
      "\n",
      "Epoch 19 - Training Loss: 0.010545846074819565\n",
      "Training Accuracy: 100.0\n",
      "Training Time in Minute= 0.1176096479098002\n",
      "Validation Accuracy: 99.0\n",
      "\n",
      "Epoch 20 - Training Loss: 0.010018046779025878\n",
      "Training Accuracy: 100.0\n",
      "Training Time in Minute= 0.12334201335906983\n",
      "Validation Accuracy: 99.0\n",
      "\n",
      "Epoch 21 - Training Loss: 0.00960543961264193\n",
      "Training Accuracy: 100.0\n",
      "Training Time in Minute= 0.12898135582606\n",
      "Validation Accuracy: 99.0\n",
      "\n",
      "Epoch 22 - Training Loss: 0.0079919439740479\n",
      "Training Accuracy: 100.0\n",
      "Training Time in Minute= 0.1348535378774007\n",
      "Validation Accuracy: 99.0\n",
      "\n",
      "Epoch 23 - Training Loss: 0.009026118820267064\n",
      "Training Accuracy: 100.0\n",
      "Training Time in Minute= 0.1406914750734965\n",
      "Validation Accuracy: 99.0\n",
      "\n",
      "Epoch 24 - Training Loss: 0.007910194989692951\n",
      "Training Accuracy: 100.0\n",
      "Training Time in Minute= 0.14621582825978596\n",
      "Validation Accuracy: 98.0\n",
      "\n",
      "Epoch 25 - Training Loss: 0.007580327269222055\n",
      "Training Accuracy: 100.0\n",
      "Training Time in Minute= 0.15220603148142497\n",
      "Validation Accuracy: 99.0\n",
      "\n"
     ]
    }
   ],
   "source": [
    "criterion = nn.NLLLoss()\n",
    "model = Gurumukhi()\n",
    "optimizer = optim.SGD(model.parameters(), lr=0.012, momentum=0.9)\n",
    "epochs = 25\n",
    "time0 = time()\n",
    "\n",
    "for e_no in range(1, epochs+1):\n",
    "    running_loss = 0\n",
    "    batch_no = 0\n",
    "    correct = 0 \n",
    "    total = 0\n",
    "    for images, labels in train_loader:\n",
    "        batch_no += 1\n",
    "        model.train()\n",
    "        images = images.flatten(start_dim=1)\n",
    "        optimizer.zero_grad()\n",
    "        output = model(images)\n",
    "        _, output_index = output.topk(1)\n",
    "        result = labels.numpy() == output_index.numpy().reshape(-1,)\n",
    "        correct += result.sum()\n",
    "        total += len(labels)\n",
    "        loss = criterion(output, labels)\n",
    "        loss.backward()\n",
    "        optimizer.step()\n",
    "        running_loss += loss.item()\n",
    "    else:\n",
    "        print(\"Epoch {} - Training Loss: {}\".format(e_no, running_loss/len(train_loader)))\n",
    "        print(f\"Training Accuracy: {(correct/total) * 100}\")\n",
    "        print(\"Training Time in Minute=\",(time()-time0)/60)\n",
    "        model.eval()\n",
    "        correct = 0\n",
    "        total = 0\n",
    "        for val_images, vlabels in val_loader:\n",
    "            val_images = val_images.flatten(start_dim=1)\n",
    "            val_output = model(val_images)\n",
    "            _, output_idx = val_output.topk(1)\n",
    "            res = vlabels.numpy() == output_idx.numpy().reshape(-1,)\n",
    "            correct += res.sum()\n",
    "            total += len(vlabels)\n",
    "            \n",
    "        print(f\"Validation Accuracy: {(correct * 100) / total}\\n\")"
   ]
  },
  {
   "cell_type": "code",
   "execution_count": null,
   "id": "f071d831",
   "metadata": {},
   "outputs": [],
   "source": []
  }
 ],
 "metadata": {
  "kernelspec": {
   "display_name": "Python 3 (ipykernel)",
   "language": "python",
   "name": "python3"
  },
  "language_info": {
   "codemirror_mode": {
    "name": "ipython",
    "version": 3
   },
   "file_extension": ".py",
   "mimetype": "text/x-python",
   "name": "python",
   "nbconvert_exporter": "python",
   "pygments_lexer": "ipython3",
   "version": "3.9.7"
  }
 },
 "nbformat": 4,
 "nbformat_minor": 5
}
