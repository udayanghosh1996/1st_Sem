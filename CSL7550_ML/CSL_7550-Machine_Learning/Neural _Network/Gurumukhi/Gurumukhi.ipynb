{
 "cells": [
  {
   "cell_type": "code",
   "execution_count": 79,
   "id": "62bd3341",
   "metadata": {},
   "outputs": [
    {
     "data": {
      "application/javascript": [
       "IPython.notebook.set_autosave_interval(1000)"
      ]
     },
     "metadata": {},
     "output_type": "display_data"
    },
    {
     "name": "stdout",
     "output_type": "stream",
     "text": [
      "Autosaving every 1 seconds\n"
     ]
    }
   ],
   "source": [
    "%autosave 1"
   ]
  },
  {
   "cell_type": "code",
   "execution_count": 80,
   "id": "b39c1fd1",
   "metadata": {},
   "outputs": [],
   "source": [
    "import os\n",
    "import numpy as np\n",
    "import tensorflow as tf\n",
    "from tensorflow import keras\n",
    "import pandas as pd\n",
    "import matplotlib.pyplot as plt\n",
    "import shutil as sh\n",
    "import matplotlib.image as img\n",
    "import scipy.misc as msc\n",
    "from PIL import Image\n",
    "import cv2\n",
    "from sklearn.model_selection import train_test_split\n",
    "from sklearn.utils import shuffle"
   ]
  },
  {
   "cell_type": "code",
   "execution_count": 81,
   "id": "2eb13dfc",
   "metadata": {},
   "outputs": [],
   "source": [
    "path=os.getcwd()\n",
    "train_path=os.path.join(path,\"training_dataset\")\n",
    "test_path=os.path.join(path,\"validation_dataset\")\n",
    "try:\n",
    "    if not os.path.exists(\"training_dataset\"):\n",
    "        os.mkdir(train_path)\n",
    "    if not os.path.exists(\"validation_dataset\"):\n",
    "        os.mkdir(test_path)\n",
    "except OSError as error:\n",
    "    print(error)"
   ]
  },
  {
   "cell_type": "code",
   "execution_count": 82,
   "id": "e46bf2ad",
   "metadata": {},
   "outputs": [],
   "source": [
    "train_directories=os.listdir(os.path.join(path,'train'))\n",
    "train_directories.sort()\n",
    "test_directories=os.listdir(os.path.join(path,'val'))\n",
    "test_directories.sort()"
   ]
  },
  {
   "cell_type": "code",
   "execution_count": 83,
   "id": "84fc1de1",
   "metadata": {},
   "outputs": [],
   "source": [
    "train_dataset_path=os.path.join(path,'train')\n",
    "test_dataset_path=os.path.join(path,'val')\n",
    "i=0\n",
    "train_label=[]\n",
    "try:\n",
    "    for folder in train_directories:\n",
    "        for file in os.scandir(os.path.join(train_dataset_path,folder)):\n",
    "            if not os.path.exists(os.path.join(train_path,str(i)+'.bmp')):\n",
    "                sh.copy(file, os.path.join(train_path,str(i)+'.bmp'))\n",
    "            train_label.append(int(folder))\n",
    "                \n",
    "            i=i+1\n",
    "    train_label=np.array(train_label)\n",
    "except OSError as error:\n",
    "    print(error)\n",
    "j=0\n",
    "test_label=[]\n",
    "try:\n",
    "    for folder in test_directories:\n",
    "        for file in os.scandir(os.path.join(test_dataset_path,folder)):\n",
    "            if not os.path.exists(os.path.join(test_path,str(j)+'.bmp')):\n",
    "                sh.copy(file, os.path.join(test_path,str(j)+'.bmp'))\n",
    "            test_label.append(int(folder))\n",
    "                \n",
    "            j=j+1\n",
    "    test_label=np.array(test_label)\n",
    "except OSError as error:\n",
    "    print(error)"
   ]
  },
  {
   "cell_type": "code",
   "execution_count": 84,
   "id": "124be7b2",
   "metadata": {},
   "outputs": [],
   "source": [
    "train_arr=[]\n",
    "try:\n",
    "    for img in os.scandir(os.path.join(train_path)):\n",
    "        train_arr.append(cv2.cvtColor(cv2.imread(os.path.join(train_path,img)),cv2.COLOR_BGR2GRAY))\n",
    "        #train_arr.append(cv2.resize(cv2.cvtColor(cv2.imread(os.path.join(train_path,img)),cv2.COLOR_BGR2GRAY), (28, 28)))\n",
    "except OSError as error:\n",
    "    print(error)\n",
    "train_arr=np.array(train_arr)\n",
    "test_arr=[]\n",
    "try:\n",
    "    for img in os.scandir(os.path.join(test_path)):\n",
    "        test_arr.append(cv2.cvtColor(cv2.imread(os.path.join(test_path,img)),cv2.COLOR_BGR2GRAY))\n",
    "        #test_arr.append(cv2.resize(cv2.cvtColor(cv2.imread(os.path.join(test_path,img)),cv2.COLOR_BGR2GRAY), (28, 28)))\n",
    "except OSError as error:\n",
    "    print(error)\n",
    "test_arr=np.array(test_arr)\n",
    "train_arr=train_arr/255\n",
    "test_arr=test_arr/255\n",
    "#train_arr_flat=train_arr.reshape(len(train_arr),28*28)\n",
    "#test_arr_flat=test_arr.reshape(len(test_arr),28*28)\n",
    "#train_arr_flat=train_arr_flat/255\n",
    "#test_arr_flat=test_arr_flat/255\n",
    "#train_arr.shape\n",
    "x_train, x_val, y_train, y_val = train_test_split(train_arr, train_label, test_size=.1, random_state=128)\n",
    "#x_train,y_train=shuffle(x_train,y_train)"
   ]
  },
  {
   "cell_type": "code",
   "execution_count": 85,
   "id": "d22f0d50",
   "metadata": {},
   "outputs": [],
   "source": [
    "# mdl = keras.Sequential([keras.layers.CNN(10, input_shape=(784,), activation='sigmoid'),\n",
    "#                         keras.layers.CNN(100, input_shape=(784,), activation='relu'),\n",
    "#                         keras.layers.CNN(100, input_shape=(784,), activation='relu'),\n",
    "#                         keras.layers.Dense(100, input_shape=(784,), activation='sigmoid')\n",
    "#                        ])\n",
    "# mdl.compile(optimizer='adam',loss='sparse_categorical_crossentropy',metrics=['accuracy'])"
   ]
  },
  {
   "cell_type": "code",
   "execution_count": 86,
   "id": "dedd3e3c",
   "metadata": {},
   "outputs": [],
   "source": [
    "mdl = keras.Sequential([keras.layers.Flatten(),\n",
    "                        keras.layers.Dense(1024, activation='relu'),\n",
    "                        keras.layers.Dense(512, activation='relu'),\n",
    "                        keras.layers.Dense(256, activation='relu'),\n",
    "                        #keras.layers.(10, activation='relu'),\n",
    "                        keras.layers.Dense(10, activation=tf.keras.activations.softmax)\n",
    "                        ])\n",
    "mdl.compile(optimizer='adam',\n",
    "              loss=tf.keras.losses.SparseCategoricalCrossentropy(from_logits=True),\n",
    "              metrics=['accuracy'])"
   ]
  },
  {
   "cell_type": "code",
   "execution_count": null,
   "id": "fdcf5232",
   "metadata": {},
   "outputs": [],
   "source": []
  },
  {
   "cell_type": "code",
   "execution_count": 87,
   "id": "a5c412e5",
   "metadata": {},
   "outputs": [
    {
     "name": "stdout",
     "output_type": "stream",
     "text": [
      "Epoch 1/100\n",
      " 1/28 [>.............................] - ETA: 5s - loss: 2.3780 - accuracy: 0.0938"
     ]
    },
    {
     "name": "stderr",
     "output_type": "stream",
     "text": [
      "C:\\Users\\udaya\\.conda\\envs\\torch\\lib\\site-packages\\tensorflow\\python\\util\\dispatch.py:1082: UserWarning: \"`sparse_categorical_crossentropy` received `from_logits=True`, but the `output` argument was produced by a sigmoid or softmax activation and thus does not represent logits. Was this intended?\"\n",
      "  return dispatch_target(*args, **kwargs)\n"
     ]
    },
    {
     "name": "stdout",
     "output_type": "stream",
     "text": [
      "28/28 [==============================] - 1s 14ms/step - loss: 1.8143 - accuracy: 0.3709 - val_loss: 1.2710 - val_accuracy: 0.6000\n",
      "Epoch 2/100\n",
      "28/28 [==============================] - 0s 12ms/step - loss: 1.0624 - accuracy: 0.6246 - val_loss: 1.0159 - val_accuracy: 0.6200\n",
      "Epoch 3/100\n",
      "28/28 [==============================] - 0s 11ms/step - loss: 0.8669 - accuracy: 0.6827 - val_loss: 1.0650 - val_accuracy: 0.6100\n",
      "Epoch 4/100\n",
      "28/28 [==============================] - 0s 12ms/step - loss: 0.8144 - accuracy: 0.6983 - val_loss: 0.9847 - val_accuracy: 0.6600\n",
      "Epoch 5/100\n",
      "28/28 [==============================] - 0s 12ms/step - loss: 0.7701 - accuracy: 0.7117 - val_loss: 0.8517 - val_accuracy: 0.7000\n",
      "Epoch 6/100\n",
      "28/28 [==============================] - 0s 12ms/step - loss: 0.6630 - accuracy: 0.7475 - val_loss: 0.9032 - val_accuracy: 0.6800\n",
      "Epoch 7/100\n",
      "28/28 [==============================] - 0s 11ms/step - loss: 0.6211 - accuracy: 0.7654 - val_loss: 0.9637 - val_accuracy: 0.6400\n",
      "Epoch 8/100\n",
      "28/28 [==============================] - 0s 11ms/step - loss: 0.5410 - accuracy: 0.7989 - val_loss: 0.8867 - val_accuracy: 0.7000\n",
      "Epoch 9/100\n",
      "28/28 [==============================] - 0s 12ms/step - loss: 0.5292 - accuracy: 0.7821 - val_loss: 1.1292 - val_accuracy: 0.6600\n",
      "Epoch 10/100\n",
      "28/28 [==============================] - 0s 11ms/step - loss: 0.5323 - accuracy: 0.7866 - val_loss: 0.8160 - val_accuracy: 0.6800\n",
      "Epoch 11/100\n",
      "28/28 [==============================] - 0s 11ms/step - loss: 0.4394 - accuracy: 0.8369 - val_loss: 1.0288 - val_accuracy: 0.6400\n",
      "Epoch 12/100\n",
      "28/28 [==============================] - 0s 12ms/step - loss: 0.4362 - accuracy: 0.8302 - val_loss: 0.9442 - val_accuracy: 0.6500\n",
      "Epoch 13/100\n",
      "28/28 [==============================] - 0s 11ms/step - loss: 0.4976 - accuracy: 0.8011 - val_loss: 0.8858 - val_accuracy: 0.7200\n",
      "Epoch 14/100\n",
      "28/28 [==============================] - 0s 11ms/step - loss: 0.4585 - accuracy: 0.8291 - val_loss: 1.0727 - val_accuracy: 0.6500\n",
      "Epoch 15/100\n",
      "28/28 [==============================] - 0s 12ms/step - loss: 0.3818 - accuracy: 0.8425 - val_loss: 1.0146 - val_accuracy: 0.6300\n",
      "Epoch 16/100\n",
      "28/28 [==============================] - 0s 11ms/step - loss: 0.3774 - accuracy: 0.8559 - val_loss: 1.0393 - val_accuracy: 0.6700\n",
      "Epoch 17/100\n",
      "28/28 [==============================] - 0s 11ms/step - loss: 0.3401 - accuracy: 0.8715 - val_loss: 1.1501 - val_accuracy: 0.6700\n",
      "Epoch 18/100\n",
      "28/28 [==============================] - 0s 12ms/step - loss: 0.3051 - accuracy: 0.8749 - val_loss: 1.1560 - val_accuracy: 0.6600\n",
      "Epoch 19/100\n",
      "28/28 [==============================] - 0s 11ms/step - loss: 0.3541 - accuracy: 0.8425 - val_loss: 1.0154 - val_accuracy: 0.6800\n",
      "Epoch 20/100\n",
      "28/28 [==============================] - 0s 11ms/step - loss: 0.2408 - accuracy: 0.9050 - val_loss: 1.4896 - val_accuracy: 0.6400\n",
      "Epoch 21/100\n",
      "28/28 [==============================] - 0s 12ms/step - loss: 0.3248 - accuracy: 0.8659 - val_loss: 1.0791 - val_accuracy: 0.6900\n",
      "Epoch 22/100\n",
      "28/28 [==============================] - 0s 11ms/step - loss: 0.2541 - accuracy: 0.8939 - val_loss: 1.2394 - val_accuracy: 0.7200\n",
      "Epoch 23/100\n",
      "28/28 [==============================] - 0s 11ms/step - loss: 0.2517 - accuracy: 0.9006 - val_loss: 1.1925 - val_accuracy: 0.6900\n",
      "Epoch 24/100\n",
      "28/28 [==============================] - 0s 11ms/step - loss: 0.2074 - accuracy: 0.9251 - val_loss: 1.4959 - val_accuracy: 0.7200\n",
      "Epoch 25/100\n",
      "28/28 [==============================] - 0s 11ms/step - loss: 0.2309 - accuracy: 0.9162 - val_loss: 1.4824 - val_accuracy: 0.6400\n",
      "Epoch 26/100\n",
      "28/28 [==============================] - 0s 11ms/step - loss: 0.2422 - accuracy: 0.9028 - val_loss: 1.4532 - val_accuracy: 0.6500\n",
      "Epoch 27/100\n",
      "28/28 [==============================] - 0s 11ms/step - loss: 0.2159 - accuracy: 0.9095 - val_loss: 1.6915 - val_accuracy: 0.5700\n",
      "Epoch 28/100\n",
      "28/28 [==============================] - 0s 12ms/step - loss: 0.1758 - accuracy: 0.9307 - val_loss: 1.4227 - val_accuracy: 0.6600\n",
      "Epoch 29/100\n",
      "28/28 [==============================] - 0s 10ms/step - loss: 0.2177 - accuracy: 0.9117 - val_loss: 1.3269 - val_accuracy: 0.6600\n",
      "Epoch 30/100\n",
      "28/28 [==============================] - 0s 11ms/step - loss: 0.2235 - accuracy: 0.9084 - val_loss: 1.4066 - val_accuracy: 0.6500\n",
      "Epoch 31/100\n",
      "28/28 [==============================] - 0s 12ms/step - loss: 0.2262 - accuracy: 0.9207 - val_loss: 1.5111 - val_accuracy: 0.6500\n",
      "Epoch 32/100\n",
      "28/28 [==============================] - 0s 11ms/step - loss: 0.1298 - accuracy: 0.9553 - val_loss: 1.8487 - val_accuracy: 0.6300\n",
      "Epoch 33/100\n",
      "28/28 [==============================] - 0s 11ms/step - loss: 0.1581 - accuracy: 0.9408 - val_loss: 1.4577 - val_accuracy: 0.6800\n",
      "Epoch 34/100\n",
      "28/28 [==============================] - 0s 13ms/step - loss: 0.1241 - accuracy: 0.9531 - val_loss: 1.5544 - val_accuracy: 0.6600\n",
      "Epoch 35/100\n",
      "28/28 [==============================] - 0s 11ms/step - loss: 0.1172 - accuracy: 0.9598 - val_loss: 1.6345 - val_accuracy: 0.6300\n",
      "Epoch 36/100\n",
      "28/28 [==============================] - 0s 11ms/step - loss: 0.0850 - accuracy: 0.9754 - val_loss: 1.6640 - val_accuracy: 0.6300\n",
      "Epoch 37/100\n",
      "28/28 [==============================] - 0s 12ms/step - loss: 0.1046 - accuracy: 0.9542 - val_loss: 1.5080 - val_accuracy: 0.6700\n",
      "Epoch 38/100\n",
      "28/28 [==============================] - 0s 11ms/step - loss: 0.1061 - accuracy: 0.9575 - val_loss: 1.6638 - val_accuracy: 0.6400\n",
      "Epoch 39/100\n",
      "28/28 [==============================] - 0s 11ms/step - loss: 0.0891 - accuracy: 0.9654 - val_loss: 1.8130 - val_accuracy: 0.6200\n",
      "Epoch 40/100\n",
      "28/28 [==============================] - 0s 12ms/step - loss: 0.1184 - accuracy: 0.9553 - val_loss: 1.6803 - val_accuracy: 0.6100\n",
      "Epoch 41/100\n",
      "28/28 [==============================] - 0s 11ms/step - loss: 0.0864 - accuracy: 0.9620 - val_loss: 1.9264 - val_accuracy: 0.6700\n",
      "Epoch 42/100\n",
      "28/28 [==============================] - 0s 11ms/step - loss: 0.1275 - accuracy: 0.9520 - val_loss: 1.5573 - val_accuracy: 0.7000\n",
      "Epoch 43/100\n",
      "28/28 [==============================] - 0s 10ms/step - loss: 0.1000 - accuracy: 0.9654 - val_loss: 1.6240 - val_accuracy: 0.6600\n",
      "Epoch 44/100\n",
      "28/28 [==============================] - 0s 13ms/step - loss: 0.1893 - accuracy: 0.9307 - val_loss: 2.3108 - val_accuracy: 0.6000\n",
      "Epoch 45/100\n",
      "28/28 [==============================] - 0s 11ms/step - loss: 0.2451 - accuracy: 0.9140 - val_loss: 1.2602 - val_accuracy: 0.6700\n",
      "Epoch 46/100\n",
      "28/28 [==============================] - 0s 10ms/step - loss: 0.1594 - accuracy: 0.9408 - val_loss: 1.7570 - val_accuracy: 0.6400\n",
      "Epoch 47/100\n",
      "28/28 [==============================] - 0s 12ms/step - loss: 0.1728 - accuracy: 0.9363 - val_loss: 1.5709 - val_accuracy: 0.6600\n",
      "Epoch 48/100\n",
      "28/28 [==============================] - 0s 11ms/step - loss: 0.1748 - accuracy: 0.9363 - val_loss: 1.4139 - val_accuracy: 0.7000\n",
      "Epoch 49/100\n",
      "28/28 [==============================] - 0s 10ms/step - loss: 0.1198 - accuracy: 0.9508 - val_loss: 1.5789 - val_accuracy: 0.6500\n",
      "Epoch 50/100\n",
      "28/28 [==============================] - 0s 11ms/step - loss: 0.0887 - accuracy: 0.9687 - val_loss: 1.9550 - val_accuracy: 0.6500\n",
      "Epoch 51/100\n",
      "28/28 [==============================] - 0s 11ms/step - loss: 0.1420 - accuracy: 0.9453 - val_loss: 1.5436 - val_accuracy: 0.6400\n",
      "Epoch 52/100\n",
      "28/28 [==============================] - 0s 11ms/step - loss: 0.1590 - accuracy: 0.9374 - val_loss: 1.7834 - val_accuracy: 0.6000\n",
      "Epoch 53/100\n",
      "28/28 [==============================] - 0s 12ms/step - loss: 0.1711 - accuracy: 0.9374 - val_loss: 1.5655 - val_accuracy: 0.6400\n",
      "Epoch 54/100\n",
      "28/28 [==============================] - 0s 11ms/step - loss: 0.1422 - accuracy: 0.9419 - val_loss: 1.5925 - val_accuracy: 0.6800\n",
      "Epoch 55/100\n",
      "28/28 [==============================] - 0s 11ms/step - loss: 0.1079 - accuracy: 0.9542 - val_loss: 1.8333 - val_accuracy: 0.6300\n",
      "Epoch 56/100\n",
      "28/28 [==============================] - 0s 11ms/step - loss: 0.1045 - accuracy: 0.9575 - val_loss: 1.5768 - val_accuracy: 0.6800\n",
      "Epoch 57/100\n",
      "28/28 [==============================] - 0s 11ms/step - loss: 0.0739 - accuracy: 0.9709 - val_loss: 2.2454 - val_accuracy: 0.6200\n",
      "Epoch 58/100\n"
     ]
    },
    {
     "name": "stdout",
     "output_type": "stream",
     "text": [
      "28/28 [==============================] - 0s 10ms/step - loss: 0.0832 - accuracy: 0.9687 - val_loss: 1.5927 - val_accuracy: 0.6400\n",
      "Epoch 59/100\n",
      "28/28 [==============================] - 0s 11ms/step - loss: 0.0923 - accuracy: 0.9654 - val_loss: 1.8209 - val_accuracy: 0.6500\n",
      "Epoch 60/100\n",
      "28/28 [==============================] - 0s 12ms/step - loss: 0.0905 - accuracy: 0.9609 - val_loss: 1.7879 - val_accuracy: 0.6700\n",
      "Epoch 61/100\n",
      "28/28 [==============================] - 0s 10ms/step - loss: 0.0936 - accuracy: 0.9676 - val_loss: 1.7703 - val_accuracy: 0.6500\n",
      "Epoch 62/100\n",
      "28/28 [==============================] - 0s 10ms/step - loss: 0.0655 - accuracy: 0.9777 - val_loss: 1.9328 - val_accuracy: 0.6300\n",
      "Epoch 63/100\n",
      "28/28 [==============================] - 0s 12ms/step - loss: 0.0623 - accuracy: 0.9777 - val_loss: 1.7074 - val_accuracy: 0.7100\n",
      "Epoch 64/100\n",
      "28/28 [==============================] - 0s 11ms/step - loss: 0.0635 - accuracy: 0.9743 - val_loss: 2.0563 - val_accuracy: 0.6400\n",
      "Epoch 65/100\n",
      "28/28 [==============================] - 0s 11ms/step - loss: 0.0926 - accuracy: 0.9609 - val_loss: 1.5110 - val_accuracy: 0.6800\n",
      "Epoch 66/100\n",
      "28/28 [==============================] - 0s 12ms/step - loss: 0.0812 - accuracy: 0.9598 - val_loss: 1.9294 - val_accuracy: 0.6400\n",
      "Epoch 67/100\n",
      "28/28 [==============================] - 0s 11ms/step - loss: 0.0545 - accuracy: 0.9732 - val_loss: 1.8790 - val_accuracy: 0.6900\n",
      "Epoch 68/100\n",
      "28/28 [==============================] - 0s 11ms/step - loss: 0.0427 - accuracy: 0.9821 - val_loss: 1.9829 - val_accuracy: 0.6200\n",
      "Epoch 69/100\n",
      "28/28 [==============================] - 0s 11ms/step - loss: 0.0367 - accuracy: 0.9832 - val_loss: 1.8707 - val_accuracy: 0.6900\n",
      "Epoch 70/100\n",
      "28/28 [==============================] - 0s 10ms/step - loss: 0.0417 - accuracy: 0.9799 - val_loss: 2.1385 - val_accuracy: 0.6100\n",
      "Epoch 71/100\n",
      "28/28 [==============================] - 0s 11ms/step - loss: 0.0491 - accuracy: 0.9754 - val_loss: 1.9829 - val_accuracy: 0.6600\n",
      "Epoch 72/100\n",
      "28/28 [==============================] - 0s 11ms/step - loss: 0.0429 - accuracy: 0.9799 - val_loss: 1.7932 - val_accuracy: 0.6900\n",
      "Epoch 73/100\n",
      "28/28 [==============================] - 0s 12ms/step - loss: 0.0387 - accuracy: 0.9821 - val_loss: 1.9830 - val_accuracy: 0.6500\n",
      "Epoch 74/100\n",
      "28/28 [==============================] - 0s 11ms/step - loss: 0.0462 - accuracy: 0.9810 - val_loss: 2.1004 - val_accuracy: 0.6700\n",
      "Epoch 75/100\n",
      "28/28 [==============================] - 0s 10ms/step - loss: 0.0371 - accuracy: 0.9866 - val_loss: 2.1110 - val_accuracy: 0.6800\n",
      "Epoch 76/100\n",
      "28/28 [==============================] - 0s 12ms/step - loss: 0.0544 - accuracy: 0.9765 - val_loss: 1.9416 - val_accuracy: 0.6500\n",
      "Epoch 77/100\n",
      "28/28 [==============================] - 0s 11ms/step - loss: 0.0736 - accuracy: 0.9709 - val_loss: 1.8930 - val_accuracy: 0.6300\n",
      "Epoch 78/100\n",
      "28/28 [==============================] - 0s 11ms/step - loss: 0.0806 - accuracy: 0.9698 - val_loss: 1.7259 - val_accuracy: 0.7100\n",
      "Epoch 79/100\n",
      "28/28 [==============================] - 0s 12ms/step - loss: 0.0438 - accuracy: 0.9810 - val_loss: 2.1779 - val_accuracy: 0.6300\n",
      "Epoch 80/100\n",
      "28/28 [==============================] - 0s 11ms/step - loss: 0.0431 - accuracy: 0.9821 - val_loss: 1.8698 - val_accuracy: 0.6600\n",
      "Epoch 81/100\n",
      "28/28 [==============================] - 0s 11ms/step - loss: 0.0317 - accuracy: 0.9866 - val_loss: 2.3875 - val_accuracy: 0.6700\n",
      "Epoch 82/100\n",
      "28/28 [==============================] - 0s 11ms/step - loss: 0.0359 - accuracy: 0.9810 - val_loss: 2.0894 - val_accuracy: 0.6500\n",
      "Epoch 83/100\n",
      "28/28 [==============================] - 0s 10ms/step - loss: 0.0291 - accuracy: 0.9844 - val_loss: 2.0012 - val_accuracy: 0.6700\n",
      "Epoch 84/100\n",
      "28/28 [==============================] - 0s 12ms/step - loss: 0.0360 - accuracy: 0.9855 - val_loss: 1.9975 - val_accuracy: 0.6600\n",
      "Epoch 85/100\n",
      "28/28 [==============================] - 0s 10ms/step - loss: 0.0389 - accuracy: 0.9810 - val_loss: 1.9642 - val_accuracy: 0.6500\n",
      "Epoch 86/100\n",
      "28/28 [==============================] - 0s 12ms/step - loss: 0.0417 - accuracy: 0.9777 - val_loss: 2.1805 - val_accuracy: 0.6700\n",
      "Epoch 87/100\n",
      "28/28 [==============================] - 0s 11ms/step - loss: 0.0697 - accuracy: 0.9676 - val_loss: 2.0901 - val_accuracy: 0.6700\n",
      "Epoch 88/100\n",
      "28/28 [==============================] - 0s 11ms/step - loss: 0.0841 - accuracy: 0.9687 - val_loss: 2.3781 - val_accuracy: 0.6300\n",
      "Epoch 89/100\n",
      "28/28 [==============================] - 0s 12ms/step - loss: 0.0539 - accuracy: 0.9799 - val_loss: 2.0057 - val_accuracy: 0.6800\n",
      "Epoch 90/100\n",
      "28/28 [==============================] - 0s 10ms/step - loss: 0.0379 - accuracy: 0.9844 - val_loss: 2.8978 - val_accuracy: 0.6100\n",
      "Epoch 91/100\n",
      "28/28 [==============================] - 0s 11ms/step - loss: 0.0865 - accuracy: 0.9631 - val_loss: 1.8458 - val_accuracy: 0.6700\n",
      "Epoch 92/100\n",
      "28/28 [==============================] - 0s 13ms/step - loss: 0.0663 - accuracy: 0.9743 - val_loss: 1.6450 - val_accuracy: 0.6800\n",
      "Epoch 93/100\n",
      "28/28 [==============================] - 0s 11ms/step - loss: 0.0754 - accuracy: 0.9721 - val_loss: 1.9911 - val_accuracy: 0.6400\n",
      "Epoch 94/100\n",
      "28/28 [==============================] - 0s 11ms/step - loss: 0.0806 - accuracy: 0.9620 - val_loss: 2.2242 - val_accuracy: 0.6500\n",
      "Epoch 95/100\n",
      "28/28 [==============================] - 0s 11ms/step - loss: 0.1394 - accuracy: 0.9531 - val_loss: 1.7346 - val_accuracy: 0.6500\n",
      "Epoch 96/100\n",
      "28/28 [==============================] - 0s 13ms/step - loss: 0.1166 - accuracy: 0.9564 - val_loss: 2.5527 - val_accuracy: 0.6300\n",
      "Epoch 97/100\n",
      "28/28 [==============================] - 0s 11ms/step - loss: 0.1095 - accuracy: 0.9654 - val_loss: 1.7293 - val_accuracy: 0.6700\n",
      "Epoch 98/100\n",
      "28/28 [==============================] - 0s 12ms/step - loss: 0.0986 - accuracy: 0.9687 - val_loss: 2.3106 - val_accuracy: 0.6600\n",
      "Epoch 99/100\n",
      "28/28 [==============================] - 0s 12ms/step - loss: 0.1156 - accuracy: 0.9575 - val_loss: 1.8768 - val_accuracy: 0.6700\n",
      "Epoch 100/100\n",
      "28/28 [==============================] - 0s 14ms/step - loss: 0.1204 - accuracy: 0.9587 - val_loss: 1.9852 - val_accuracy: 0.7100\n"
     ]
    },
    {
     "data": {
      "text/plain": [
       "<keras.callbacks.History at 0x1b85ea66c40>"
      ]
     },
     "execution_count": 87,
     "metadata": {},
     "output_type": "execute_result"
    }
   ],
   "source": [
    "mdl.fit(x_train, y_train ,epochs=100, validation_data=(x_val,y_val))"
   ]
  },
  {
   "cell_type": "code",
   "execution_count": 88,
   "id": "2187f0fb",
   "metadata": {},
   "outputs": [],
   "source": [
    "predict=mdl.predict(test_arr)"
   ]
  },
  {
   "cell_type": "code",
   "execution_count": 89,
   "id": "44da9b9d",
   "metadata": {},
   "outputs": [
    {
     "name": "stdout",
     "output_type": "stream",
     "text": [
      "6/6 [==============================] - 0s 5ms/step - loss: 13.0267 - accuracy: 0.0056\n"
     ]
    },
    {
     "data": {
      "text/plain": [
       "[13.02674674987793, 0.00561797758564353]"
      ]
     },
     "execution_count": 89,
     "metadata": {},
     "output_type": "execute_result"
    }
   ],
   "source": [
    "mdl.evaluate(test_arr,test_label)"
   ]
  },
  {
   "cell_type": "code",
   "execution_count": 90,
   "id": "db1e77ce",
   "metadata": {},
   "outputs": [],
   "source": [
    "train_arr_gray=[]\n",
    "try:\n",
    "    for img in os.scandir(os.path.join(train_path)):\n",
    "        #train_arr_gray.append(cv2.imread(os.path.join(train_path,img)))\n",
    "        train_arr_gray.append(cv2.cvtColor(cv2.imread(os.path.join(train_path,img)),cv2.COLOR_BGR2GRAY))\n",
    "except OSError as error:\n",
    "    print(error)\n",
    "train_arr_gray=np.array(train_arr_gray)\n",
    "test_arr_gray=[]\n",
    "try:\n",
    "    for img in os.scandir(os.path.join(test_path)):\n",
    "        #test_arr.append(cv2.imread(os.path.join(test_path,img)))\n",
    "        test_arr_gray.append(cv2.cvtColor(cv2.imread(os.path.join(test_path,img)),cv2.COLOR_BGR2GRAY))\n",
    "except OSError as error:\n",
    "    print(error)\n",
    "test_arr_gray=np.array(test_arr_gray)\n",
    "train_arr_gray=train_arr_gray/255\n",
    "test_arr_gray=test_arr_gray/255\n",
    "x_train_gray, x_val_gray, y_train_gray, y_val_gray = train_test_split(train_arr_gray, train_label, test_size=.1, random_state=128)\n",
    "x_train_gray,y_train_gray=shuffle(x_train_gray,y_train_gray)"
   ]
  },
  {
   "cell_type": "code",
   "execution_count": 91,
   "id": "dee62763",
   "metadata": {},
   "outputs": [],
   "source": [
    "mdl1 = keras.Sequential([keras.layers.Conv2D(32, (3,3), activation='relu', input_shape=(32,32,1)),\n",
    "                        keras.layers.MaxPooling2D(2,2),\n",
    "                        keras.layers.Conv2D(64, (3,3), activation='relu'),\n",
    "                        keras.layers.MaxPooling2D(2,2),\n",
    "                        keras.layers.Conv2D(64, (2,2), activation='relu'),\n",
    "                        keras.layers.MaxPooling2D(2,2),\n",
    "                        keras.layers.Conv2D(128, (2,2), activation='relu'),\n",
    "                        keras.layers.Flatten(),\n",
    "                        keras.layers.Dense(128, activation='relu'),\n",
    "                        keras.layers.Dense(10),\n",
    "                        keras.layers.Dense(10, activation=tf.keras.activations.softmax)\n",
    "                        ])\n",
    "mdl1.compile(optimizer='adam',\n",
    "              loss=tf.keras.losses.SparseCategoricalCrossentropy(from_logits=True),\n",
    "              metrics=['accuracy'])"
   ]
  },
  {
   "cell_type": "code",
   "execution_count": 92,
   "id": "21b2f825",
   "metadata": {},
   "outputs": [
    {
     "name": "stdout",
     "output_type": "stream",
     "text": [
      "Epoch 1/50\n",
      "28/28 [==============================] - 1s 26ms/step - loss: 2.2891 - accuracy: 0.1106 - val_loss: 2.2341 - val_accuracy: 0.1800\n",
      "Epoch 2/50\n",
      "28/28 [==============================] - 1s 22ms/step - loss: 1.9737 - accuracy: 0.3296 - val_loss: 1.8241 - val_accuracy: 0.4700\n",
      "Epoch 3/50\n",
      "28/28 [==============================] - 1s 19ms/step - loss: 1.4798 - accuracy: 0.5006 - val_loss: 1.4555 - val_accuracy: 0.6000\n",
      "Epoch 4/50\n",
      "28/28 [==============================] - 1s 20ms/step - loss: 1.1539 - accuracy: 0.5944 - val_loss: 1.1818 - val_accuracy: 0.6400\n",
      "Epoch 5/50\n",
      "28/28 [==============================] - 0s 18ms/step - loss: 1.0011 - accuracy: 0.6358 - val_loss: 0.9616 - val_accuracy: 0.6700\n",
      "Epoch 6/50\n",
      "28/28 [==============================] - 1s 19ms/step - loss: 0.8722 - accuracy: 0.6592 - val_loss: 0.9789 - val_accuracy: 0.6500\n",
      "Epoch 7/50\n",
      "28/28 [==============================] - 1s 18ms/step - loss: 0.8003 - accuracy: 0.6950 - val_loss: 0.9240 - val_accuracy: 0.6800\n",
      "Epoch 8/50\n",
      "28/28 [==============================] - 1s 20ms/step - loss: 0.7592 - accuracy: 0.7050 - val_loss: 0.8196 - val_accuracy: 0.6900\n",
      "Epoch 9/50\n",
      "28/28 [==============================] - 1s 18ms/step - loss: 0.6970 - accuracy: 0.7229 - val_loss: 1.0811 - val_accuracy: 0.5800\n",
      "Epoch 10/50\n",
      "28/28 [==============================] - 1s 19ms/step - loss: 0.6947 - accuracy: 0.7251 - val_loss: 0.8272 - val_accuracy: 0.6900\n",
      "Epoch 11/50\n",
      "28/28 [==============================] - 1s 18ms/step - loss: 0.6267 - accuracy: 0.7531 - val_loss: 0.9079 - val_accuracy: 0.6100\n",
      "Epoch 12/50\n",
      "28/28 [==============================] - 1s 19ms/step - loss: 0.5915 - accuracy: 0.7564 - val_loss: 0.8704 - val_accuracy: 0.6800\n",
      "Epoch 13/50\n",
      "28/28 [==============================] - 0s 18ms/step - loss: 0.5489 - accuracy: 0.7955 - val_loss: 0.8714 - val_accuracy: 0.7000\n",
      "Epoch 14/50\n",
      "28/28 [==============================] - 1s 19ms/step - loss: 0.5241 - accuracy: 0.7911 - val_loss: 0.9725 - val_accuracy: 0.6800\n",
      "Epoch 15/50\n",
      "28/28 [==============================] - 0s 18ms/step - loss: 0.4802 - accuracy: 0.8279 - val_loss: 0.8208 - val_accuracy: 0.6700\n",
      "Epoch 16/50\n",
      "28/28 [==============================] - 1s 21ms/step - loss: 0.4628 - accuracy: 0.8212 - val_loss: 0.8783 - val_accuracy: 0.7100\n",
      "Epoch 17/50\n",
      "28/28 [==============================] - 1s 18ms/step - loss: 0.4099 - accuracy: 0.8458 - val_loss: 0.8812 - val_accuracy: 0.6900\n",
      "Epoch 18/50\n",
      "28/28 [==============================] - 1s 19ms/step - loss: 0.4213 - accuracy: 0.8369 - val_loss: 0.9568 - val_accuracy: 0.6500\n",
      "Epoch 19/50\n",
      "28/28 [==============================] - 1s 18ms/step - loss: 0.3699 - accuracy: 0.8581 - val_loss: 0.9864 - val_accuracy: 0.6800\n",
      "Epoch 20/50\n",
      "28/28 [==============================] - 1s 19ms/step - loss: 0.3854 - accuracy: 0.8570 - val_loss: 1.0334 - val_accuracy: 0.6600\n",
      "Epoch 21/50\n",
      "28/28 [==============================] - 1s 19ms/step - loss: 0.4471 - accuracy: 0.8246 - val_loss: 0.8766 - val_accuracy: 0.6800\n",
      "Epoch 22/50\n",
      "28/28 [==============================] - 0s 18ms/step - loss: 0.3861 - accuracy: 0.8425 - val_loss: 1.0582 - val_accuracy: 0.7100\n",
      "Epoch 23/50\n",
      "28/28 [==============================] - 1s 18ms/step - loss: 0.3183 - accuracy: 0.8883 - val_loss: 1.1307 - val_accuracy: 0.7300\n",
      "Epoch 24/50\n",
      "28/28 [==============================] - 1s 18ms/step - loss: 0.3589 - accuracy: 0.8547 - val_loss: 1.0044 - val_accuracy: 0.7000\n",
      "Epoch 25/50\n",
      "28/28 [==============================] - 1s 19ms/step - loss: 0.2778 - accuracy: 0.9006 - val_loss: 1.1789 - val_accuracy: 0.6900\n",
      "Epoch 26/50\n",
      "28/28 [==============================] - 1s 18ms/step - loss: 0.2798 - accuracy: 0.8894 - val_loss: 1.0317 - val_accuracy: 0.7200\n",
      "Epoch 27/50\n",
      "28/28 [==============================] - 1s 19ms/step - loss: 0.3047 - accuracy: 0.8883 - val_loss: 1.1599 - val_accuracy: 0.7000\n",
      "Epoch 28/50\n",
      "28/28 [==============================] - 1s 18ms/step - loss: 0.2757 - accuracy: 0.8950 - val_loss: 1.0077 - val_accuracy: 0.7400\n",
      "Epoch 29/50\n",
      "28/28 [==============================] - 1s 18ms/step - loss: 0.2489 - accuracy: 0.9073 - val_loss: 1.2747 - val_accuracy: 0.6900\n",
      "Epoch 30/50\n",
      "28/28 [==============================] - 0s 17ms/step - loss: 0.2056 - accuracy: 0.9318 - val_loss: 1.4189 - val_accuracy: 0.6500\n",
      "Epoch 31/50\n",
      "28/28 [==============================] - 1s 19ms/step - loss: 0.2084 - accuracy: 0.9173 - val_loss: 1.1709 - val_accuracy: 0.7000\n",
      "Epoch 32/50\n",
      "28/28 [==============================] - 0s 18ms/step - loss: 0.2674 - accuracy: 0.9050 - val_loss: 1.2466 - val_accuracy: 0.7300\n",
      "Epoch 33/50\n",
      "28/28 [==============================] - 1s 20ms/step - loss: 0.2140 - accuracy: 0.9285 - val_loss: 1.3060 - val_accuracy: 0.6500\n",
      "Epoch 34/50\n",
      "28/28 [==============================] - 0s 17ms/step - loss: 0.1883 - accuracy: 0.9240 - val_loss: 1.3547 - val_accuracy: 0.6900\n",
      "Epoch 35/50\n",
      "28/28 [==============================] - 1s 20ms/step - loss: 0.2109 - accuracy: 0.9140 - val_loss: 1.4161 - val_accuracy: 0.6300\n",
      "Epoch 36/50\n",
      "28/28 [==============================] - 0s 18ms/step - loss: 0.2137 - accuracy: 0.9263 - val_loss: 1.3586 - val_accuracy: 0.7200\n",
      "Epoch 37/50\n",
      "28/28 [==============================] - 1s 19ms/step - loss: 0.1612 - accuracy: 0.9430 - val_loss: 1.3504 - val_accuracy: 0.7000\n",
      "Epoch 38/50\n",
      "28/28 [==============================] - 1s 18ms/step - loss: 0.1421 - accuracy: 0.9497 - val_loss: 1.4314 - val_accuracy: 0.7300\n",
      "Epoch 39/50\n",
      "28/28 [==============================] - 1s 19ms/step - loss: 0.1720 - accuracy: 0.9397 - val_loss: 1.4516 - val_accuracy: 0.7100\n",
      "Epoch 40/50\n",
      "28/28 [==============================] - 1s 19ms/step - loss: 0.1369 - accuracy: 0.9486 - val_loss: 1.3460 - val_accuracy: 0.7000\n",
      "Epoch 41/50\n",
      "28/28 [==============================] - 1s 19ms/step - loss: 0.1650 - accuracy: 0.9430 - val_loss: 1.4182 - val_accuracy: 0.7100\n",
      "Epoch 42/50\n",
      "28/28 [==============================] - 0s 17ms/step - loss: 0.1771 - accuracy: 0.9374 - val_loss: 1.4818 - val_accuracy: 0.6300\n",
      "Epoch 43/50\n",
      "28/28 [==============================] - 1s 20ms/step - loss: 0.1458 - accuracy: 0.9497 - val_loss: 1.5634 - val_accuracy: 0.6600\n",
      "Epoch 44/50\n",
      "28/28 [==============================] - 0s 17ms/step - loss: 0.1215 - accuracy: 0.9620 - val_loss: 1.6421 - val_accuracy: 0.7100\n",
      "Epoch 45/50\n",
      "28/28 [==============================] - 1s 20ms/step - loss: 0.1120 - accuracy: 0.9631 - val_loss: 1.5063 - val_accuracy: 0.7100\n",
      "Epoch 46/50\n",
      "28/28 [==============================] - 0s 18ms/step - loss: 0.0982 - accuracy: 0.9687 - val_loss: 1.4488 - val_accuracy: 0.7300\n",
      "Epoch 47/50\n",
      "28/28 [==============================] - 1s 20ms/step - loss: 0.1209 - accuracy: 0.9575 - val_loss: 1.4146 - val_accuracy: 0.7100\n",
      "Epoch 48/50\n",
      "28/28 [==============================] - 0s 18ms/step - loss: 0.1115 - accuracy: 0.9631 - val_loss: 1.6297 - val_accuracy: 0.6900\n",
      "Epoch 49/50\n",
      "28/28 [==============================] - 1s 19ms/step - loss: 0.1070 - accuracy: 0.9654 - val_loss: 1.4166 - val_accuracy: 0.7100\n",
      "Epoch 50/50\n",
      "28/28 [==============================] - 0s 18ms/step - loss: 0.1052 - accuracy: 0.9620 - val_loss: 1.4544 - val_accuracy: 0.6900\n"
     ]
    },
    {
     "data": {
      "text/plain": [
       "<keras.callbacks.History at 0x1b85c0f1580>"
      ]
     },
     "execution_count": 92,
     "metadata": {},
     "output_type": "execute_result"
    }
   ],
   "source": [
    "mdl1.fit(x_train_gray, y_train_gray,epochs=50, validation_data=(x_val_gray,y_val_gray))"
   ]
  },
  {
   "cell_type": "code",
   "execution_count": 93,
   "id": "ae24d322",
   "metadata": {},
   "outputs": [
    {
     "name": "stdout",
     "output_type": "stream",
     "text": [
      "6/6 [==============================] - 0s 5ms/step - loss: 16.3778 - accuracy: 0.0112\n"
     ]
    },
    {
     "data": {
      "text/plain": [
       "[16.377769470214844, 0.01123595517128706]"
      ]
     },
     "execution_count": 93,
     "metadata": {},
     "output_type": "execute_result"
    }
   ],
   "source": [
    "mdl1.evaluate(test_arr_gray, test_label)"
   ]
  }
 ],
 "metadata": {
  "kernelspec": {
   "display_name": "Python 3 (ipykernel)",
   "language": "python",
   "name": "python3"
  },
  "language_info": {
   "codemirror_mode": {
    "name": "ipython",
    "version": 3
   },
   "file_extension": ".py",
   "mimetype": "text/x-python",
   "name": "python",
   "nbconvert_exporter": "python",
   "pygments_lexer": "ipython3",
   "version": "3.9.7"
  }
 },
 "nbformat": 4,
 "nbformat_minor": 5
}
